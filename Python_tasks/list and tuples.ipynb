{
 "cells": [
  {
   "cell_type": "markdown",
   "metadata": {},
   "source": [
    "# LISTS AND  TUPLES "
   ]
  },
  {
   "cell_type": "code",
   "execution_count": 2,
   "metadata": {},
   "outputs": [
    {
     "name": "stdout",
     "output_type": "stream",
     "text": [
      "1\n",
      "5\n",
      "4\n",
      "8\n",
      "7\n"
     ]
    }
   ],
   "source": [
    "# ORIGINAL CODE\n",
    "nums = [1,5,4,8,7]\n",
    "for i in nums:\n",
    "    print(i)"
   ]
  },
  {
   "cell_type": "code",
   "execution_count": 2,
   "metadata": {},
   "outputs": [
    {
     "name": "stdout",
     "output_type": "stream",
     "text": [
      "1\n",
      "5\n",
      "4\n",
      "8\n",
      "7\n"
     ]
    }
   ],
   "source": [
    "#equvalent with \"While\" code \n",
    "nums = [1,5,4,8,7]\n",
    "i=0\n",
    "while i<len(nums):\n",
    "    print(nums[i])\n",
    "    i+=1"
   ]
  },
  {
   "cell_type": "code",
   "execution_count": 6,
   "metadata": {},
   "outputs": [
    {
     "data": {
      "text/plain": [
       "[0, 2, 4, 6, 8]"
      ]
     },
     "execution_count": 6,
     "metadata": {},
     "output_type": "execute_result"
    }
   ],
   "source": [
    "#List comprehensions \n",
    "[x for x in range(10) if x%2==0]"
   ]
  },
  {
   "cell_type": "code",
   "execution_count": 7,
   "metadata": {},
   "outputs": [
    {
     "data": {
      "text/plain": [
       "[0, 1, 4, 9, 16]"
      ]
     },
     "execution_count": 7,
     "metadata": {},
     "output_type": "execute_result"
    }
   ],
   "source": [
    "[x**2 for x in range(5)]"
   ]
  },
  {
   "cell_type": "code",
   "execution_count": 10,
   "metadata": {},
   "outputs": [
    {
     "data": {
      "text/plain": [
       "[1, 2, 3, 4]"
      ]
     },
     "execution_count": 10,
     "metadata": {},
     "output_type": "execute_result"
    }
   ],
   "source": [
    "[x for x in [-1,1,-2,2,-3,3,-4,4] if x>=0]"
   ]
  },
  {
   "cell_type": "code",
   "execution_count": 11,
   "metadata": {},
   "outputs": [
    {
     "data": {
      "text/plain": [
       "[72, 101, 108, 108, 111]"
      ]
     },
     "execution_count": 11,
     "metadata": {},
     "output_type": "execute_result"
    }
   ],
   "source": [
    "[ord(x) for x in \"Hello\"]"
   ]
  },
  {
   "cell_type": "code",
   "execution_count": 12,
   "metadata": {},
   "outputs": [
    {
     "data": {
      "text/plain": [
       "['e', 'o']"
      ]
     },
     "execution_count": 12,
     "metadata": {},
     "output_type": "execute_result"
    }
   ],
   "source": [
    "vowels= ('a','e','i','o','u')\n",
    "w='hello'\n",
    "[ch for ch in w if ch in vowels]"
   ]
  },
  {
   "cell_type": "code",
   "execution_count": 13,
   "metadata": {},
   "outputs": [
    {
     "name": "stdout",
     "output_type": "stream",
     "text": [
      "enter  2 numbers 5 50\n"
     ]
    }
   ],
   "source": [
    "a,b = [int(x) for x in input(\"enter  2 numbers \").split()] "
   ]
  },
  {
   "cell_type": "code",
   "execution_count": 17,
   "metadata": {},
   "outputs": [
    {
     "name": "stdout",
     "output_type": "stream",
     "text": [
      "5 50\n"
     ]
    }
   ],
   "source": [
    "print(a,b)\n"
   ]
  },
  {
   "cell_type": "code",
   "execution_count": 18,
   "metadata": {},
   "outputs": [
    {
     "data": {
      "text/plain": [
       "[1, 2, 3, 1, 2, 3]"
      ]
     },
     "execution_count": 18,
     "metadata": {},
     "output_type": "execute_result"
    }
   ],
   "source": [
    "#eval\n",
    "eval(\"[1,2,3]+[1,2,3]\")"
   ]
  },
  {
   "cell_type": "code",
   "execution_count": 19,
   "metadata": {},
   "outputs": [
    {
     "name": "stdout",
     "output_type": "stream",
     "text": [
      "range(0, 9)\n"
     ]
    }
   ],
   "source": [
    "l=range(0,9)\n",
    "print(l)"
   ]
  },
  {
   "cell_type": "code",
   "execution_count": 20,
   "metadata": {},
   "outputs": [
    {
     "data": {
      "text/plain": [
       "range"
      ]
     },
     "execution_count": 20,
     "metadata": {},
     "output_type": "execute_result"
    }
   ],
   "source": [
    "type(l)"
   ]
  },
  {
   "cell_type": "code",
   "execution_count": 21,
   "metadata": {},
   "outputs": [
    {
     "data": {
      "text/plain": [
       "[0, 1, 2, 3, 4, 5, 6, 7, 8]"
      ]
     },
     "execution_count": 21,
     "metadata": {},
     "output_type": "execute_result"
    }
   ],
   "source": [
    "l=list(range(0,9));l"
   ]
  },
  {
   "cell_type": "code",
   "execution_count": 26,
   "metadata": {},
   "outputs": [
    {
     "name": "stdout",
     "output_type": "stream",
     "text": [
      "8 9\n"
     ]
    }
   ],
   "source": [
    "a,b=8,9;print(a,b)\n"
   ]
  },
  {
   "cell_type": "code",
   "execution_count": 1,
   "metadata": {},
   "outputs": [
    {
     "name": "stdout",
     "output_type": "stream",
     "text": [
      "[1, 10, 11, 3, 4, 5]\n"
     ]
    }
   ],
   "source": [
    "lone=[1,2,3,4,5]\n",
    "lone[1:2]=10,11\n",
    "print(lone)"
   ]
  },
  {
   "cell_type": "code",
   "execution_count": 2,
   "metadata": {},
   "outputs": [
    {
     "name": "stdout",
     "output_type": "stream",
     "text": [
      "(1, 10, 11, 3, 4, 5)\n"
     ]
    }
   ],
   "source": [
    "l2 = tuple(lone)\n",
    "print(l2)"
   ]
  },
  {
   "cell_type": "code",
   "execution_count": 28,
   "metadata": {},
   "outputs": [
    {
     "name": "stdout",
     "output_type": "stream",
     "text": [
      "[1, 10, 11, 3, 4, 5, 1, 10, 11, 3, 4, 5]\n"
     ]
    }
   ],
   "source": [
    "print(lone*2)"
   ]
  },
  {
   "cell_type": "code",
   "execution_count": 29,
   "metadata": {},
   "outputs": [],
   "source": [
    "ltwo=lone\n",
    "ltwo[0]=22"
   ]
  },
  {
   "cell_type": "code",
   "execution_count": 30,
   "metadata": {},
   "outputs": [
    {
     "name": "stdout",
     "output_type": "stream",
     "text": [
      "[22, 10, 11, 35, 4, 5]\n",
      "[22, 10, 11, 35, 4, 5]\n"
     ]
    }
   ],
   "source": [
    "lone[3]=35\n",
    "print(lone)\n",
    "print(ltwo)"
   ]
  },
  {
   "cell_type": "code",
   "execution_count": null,
   "metadata": {},
   "outputs": [],
   "source": []
  },
  {
   "cell_type": "code",
   "execution_count": 33,
   "metadata": {},
   "outputs": [
    {
     "name": "stdout",
     "output_type": "stream",
     "text": [
      "[1, 2, 3]\n",
      "[4, 5, 6]\n",
      "[7, 8, 9]\n"
     ]
    }
   ],
   "source": [
    "lsix=[[1,2,3],[4,5,6],[7,8,9]]\n",
    "\n",
    "for lseven in lsix:\n",
    "    print(lseven)"
   ]
  },
  {
   "cell_type": "code",
   "execution_count": 1,
   "metadata": {},
   "outputs": [
    {
     "name": "stdout",
     "output_type": "stream",
     "text": [
      "Enter the number to search for in the given list:10\n",
      "False\n",
      "10 is not present in the list\n"
     ]
    }
   ],
   "source": [
    "#1 program          #assignment list and tuples \n",
    "nums = [11,5,7,88,18,99,66,4,2]\n",
    "num = int(input(\"Enter the number to search for in the given list:\"))\n",
    "\n",
    "if print(num in nums): \n",
    "    print(num, \"is present in the list\")\n",
    "else:\n",
    "    print(num, \"is not present in the list\")\n",
    "    \n",
    "    \n",
    "#print(3 in nums)"
   ]
  },
  {
   "cell_type": "code",
   "execution_count": 2,
   "metadata": {},
   "outputs": [
    {
     "name": "stdout",
     "output_type": "stream",
     "text": [
      "Enter 5 numbers seperated with space:\n",
      "5 8 7 9 6\n",
      "Enter the number to search for in the given list:4\n",
      "4 is not present in the list\n"
     ]
    }
   ],
   "source": [
    "#another way\n",
    "l = [ int(x) for x in input(\"Enter 5 numbers seperated with space:\\n\").split() ]\n",
    "\n",
    "num = int(input(\"Enter the number to search for in the given list:\"))\n",
    "\n",
    "for x in l:\n",
    "    if x == num:\n",
    "        print(num, \"is present in the list\")\n",
    "        break;\n",
    "else:\n",
    "    print(num, \"is not present in the list\")\n",
    "\n"
   ]
  },
  {
   "cell_type": "code",
   "execution_count": 8,
   "metadata": {},
   "outputs": [
    {
     "data": {
      "text/plain": [
       "[5, 48, 67, 92, 9, 45]"
      ]
     },
     "execution_count": 8,
     "metadata": {},
     "output_type": "execute_result"
    }
   ],
   "source": [
    "#2 program\n",
    "lone = [5,48,67,92,125,147,214,9,45,123]\n",
    "[i for i in lone if 1<i<100]"
   ]
  },
  {
   "cell_type": "code",
   "execution_count": 5,
   "metadata": {},
   "outputs": [
    {
     "name": "stdout",
     "output_type": "stream",
     "text": [
      "Enter 5 numbers seperated with space:\n",
      "8 74 123 47 -9\n",
      "the first list  [8, 74, 123, 47, -9]\n",
      "the scond  list  [8, 74, 47]\n"
     ]
    }
   ],
   "source": [
    "#or\n",
    "l = [ int(x) for x in input(\"Enter 5 numbers seperated with space:\\n\").split() ]\n",
    "l1=[]\n",
    "for i in l:\n",
    "    if i>0 and i<100:\n",
    "        l1.append(i)\n",
    "print(\"the first list \", l)\n",
    "print(\"the scond  list \", l1)"
   ]
  },
  {
   "cell_type": "code",
   "execution_count": 1,
   "metadata": {},
   "outputs": [
    {
     "name": "stdout",
     "output_type": "stream",
     "text": [
      "enter numbers with space5 4 8 2 14 54 21 34 65\n",
      "[5, 4, 2, 54]\n"
     ]
    }
   ],
   "source": [
    "#3\n",
    "valid_tuple=(5,4,6,9,7,2,3,54,41,23)\n",
    "user_list=[int(i) for i in input('enter numbers with space').split()]\n",
    "result=[a for a in user_list if a in valid_tuple]\n",
    "print(result)"
   ]
  },
  {
   "cell_type": "code",
   "execution_count": 10,
   "metadata": {},
   "outputs": [
    {
     "name": "stdout",
     "output_type": "stream",
     "text": [
      "Enter a letter: a\n",
      "Letter appears 4 times\n"
     ]
    }
   ],
   "source": [
    "#5\n",
    "names = [\"venkat\",\"durga\", \"naveeen\",\"subhash\"]\n",
    "userLetter = input('Enter a letter: ')\n",
    "\n",
    "letterCount = 0\n",
    "for sentence in names:\n",
    "    letterCount += sentence.count(userLetter)\n",
    "\n",
    "print(\"Letter appears {} times\".format(letterCount))"
   ]
  },
  {
   "cell_type": "code",
   "execution_count": 1,
   "metadata": {},
   "outputs": [
    {
     "name": "stdout",
     "output_type": "stream",
     "text": [
      "enter a letter : a\n",
      "Letter a appears 4 times\n"
     ]
    }
   ],
   "source": [
    "searchLetter = input(\"enter a letter : \")\n",
    "names = [\"venkat\",\"durga\", \"naveeen\",\"subhash\"]\n",
    "total = sum(s.count(searchLetter) for s in names)\n",
    "print(\"Letter {0} appears {1} times\".format(searchLetter,total))\n"
   ]
  },
  {
   "cell_type": "code",
   "execution_count": 16,
   "metadata": {},
   "outputs": [
    {
     "data": {
      "text/plain": [
       "[10, 'josh', 'josh', 14, 78, 96, 98, 'josh', 32, 'josh']"
      ]
     },
     "execution_count": 16,
     "metadata": {},
     "output_type": "execute_result"
    }
   ],
   "source": [
    "#4\n",
    "#list = [10,145,120,14,78,96,98,214,32,123]\n",
    "\n",
    "lone = [ int(x) for x in input(\"Enter a list of integers seperated by spaces:\\n\").split()]\n",
    "\n",
    "['josh' if x>100 else x for x in list]\n"
   ]
  },
  {
   "cell_type": "code",
   "execution_count": 4,
   "metadata": {},
   "outputs": [
    {
     "name": "stdout",
     "output_type": "stream",
     "text": [
      "Enter a list of integers seperated by spaces:\n",
      "12 123 145 42 155\n",
      "12\n",
      "JOSH\n",
      "JOSH\n",
      "42\n",
      "JOSH\n"
     ]
    }
   ],
   "source": [
    "\n",
    "lone = [ int(x) for x in input(\"Enter a list of integers seperated by spaces:\\n\").split()]\n",
    "\n",
    "for x in lone:\n",
    "    if x > 100:\n",
    "        print(\"JOSH\")\n",
    "    else:\n",
    "        print(x)\n",
    "\n",
    "\n"
   ]
  },
  {
   "cell_type": "code",
   "execution_count": 2,
   "metadata": {},
   "outputs": [
    {
     "name": "stdout",
     "output_type": "stream",
     "text": [
      "Enter first list seperated by spaces:\n",
      "1 4 5 6 7 8 9 3\n",
      "Enter second list seperated by spaces:\n",
      "12 32 5 4 7 11 30 54\n",
      "Both lists are of same size\n",
      "Both lists doesn't sum to same value\n",
      "4 is present in both lists\n",
      "5 is present in both lists\n",
      "7 is present in both lists\n",
      "There are few numbers common in both lists\n"
     ]
    }
   ],
   "source": [
    "#6\n",
    "\n",
    "present = False\n",
    "\n",
    "list_one = [int(x) for x in input(\"Enter first list seperated by spaces:\\n\").split()]\n",
    "list_two = [int(x) for x in input(\"Enter second list seperated by spaces:\\n\").split()]\n",
    "\n",
    "if len(list_one) == len(list_two):\n",
    "    print(\"Both lists are of same size\")\n",
    "else:\n",
    "    print(\"Both list are not of same size\")\n",
    "\n",
    "if sum(list_one) == sum(list_two):\n",
    "    print(\"Both lists sum to same value\")\n",
    "else:\n",
    "    print(\"Both lists doesn't sum to same value\")\n",
    "\n",
    "for x in list_one:\n",
    "    for y in list_two:\n",
    "        if(x == y):\n",
    "            print(x, \"is present in both lists\")\n",
    "            present = True\n",
    "\n",
    "if present == True:\n",
    "    print(\"There are few numbers common in both lists\")\n"
   ]
  },
  {
   "cell_type": "code",
   "execution_count": 3,
   "metadata": {},
   "outputs": [
    {
     "name": "stdout",
     "output_type": "stream",
     "text": [
      "(1, 2, 3)\n",
      "Replacing 2 in tuple to 5\n",
      "(1, 5, 3)\n"
     ]
    }
   ],
   "source": [
    "#7\n",
    "\n",
    "t = (1,2,3)\n",
    "print(t)\n",
    "print(\"Replacing 2 in tuple to 5\")\n",
    "l = list(t)\n",
    "l[1] = 5\n",
    "t = tuple(l)\n",
    "print(t)\n",
    "\n"
   ]
  },
  {
   "cell_type": "code",
   "execution_count": 5,
   "metadata": {},
   "outputs": [
    {
     "name": "stdout",
     "output_type": "stream",
     "text": [
      "Enter elements seperated by commas:9,8,6,5,7,12,5,4,6,32,12\n",
      "The tuple is :  (9, 8, 6, 5, 7, 12, 5, 4, 6, 32, 12)\n",
      "Enter an element to search:6\n",
      "Element position no:  3\n"
     ]
    }
   ],
   "source": [
    "#8\n",
    "\n",
    "str = input(\"Enter elements seperated by commas:\").split(',')\n",
    "\n",
    "l = [int(num) for num in str]\n",
    "\n",
    "tup = tuple(l)\n",
    "\n",
    "print(\"The tuple is : \", tup)\n",
    "\n",
    "ele = int(input(\"Enter an element to search:\"))\n",
    "\n",
    "try:\n",
    "    pos = tup.index(ele)\n",
    "    print(\"Element position no: \", pos + 1)\n",
    "\n",
    "except ValueError:\n",
    "    print(\"Element not found in tuple\")\n"
   ]
  },
  {
   "cell_type": "code",
   "execution_count": 19,
   "metadata": {},
   "outputs": [
    {
     "name": "stdout",
     "output_type": "stream",
     "text": [
      "724\n",
      "80.44444444444444\n"
     ]
    }
   ],
   "source": [
    "#9\n",
    "class_grades = (85,91,89,78,81,86,62,75,77)\n",
    "k = 0\n",
    "sum = 0\n",
    "while (k < len(class_grades)):\n",
    "    sum = sum + class_grades[k]\n",
    "    k = k + 1\n",
    "average = sum / len(class_grades)\n",
    "print(sum)                        \n",
    "print(average)"
   ]
  },
  {
   "cell_type": "code",
   "execution_count": 6,
   "metadata": {},
   "outputs": [
    {
     "name": "stdout",
     "output_type": "stream",
     "text": [
      "Enter the values seperated by commas:85,91,89,78,81,86,62,75,77\n",
      "[85, 91, 89, 78, 81, 86, 62, 75, 77]\n",
      "Total Sum =  724\n",
      "Average of tuple =  80.44444444444444\n"
     ]
    }
   ],
   "source": [
    "#another way\n",
    "l = [int(x) for x in input(\"Enter the values seperated by commas:\").split(',')]\n",
    "print(l)\n",
    "\n",
    "t = tuple(l)\n",
    "\n",
    "sum_of_tuple = sum(t)\n",
    "average_of_tuple = sum_of_tuple/len(t)\n",
    "\n",
    "print(\"Total Sum = \", sum_of_tuple)\n",
    "print(\"Average of tuple = \", average_of_tuple)\n"
   ]
  },
  {
   "cell_type": "code",
   "execution_count": 20,
   "metadata": {},
   "outputs": [
    {
     "name": "stdout",
     "output_type": "stream",
     "text": [
      "[17, 15, 4]\n",
      "[10, 12, 9]\n",
      "[11, 13, 18]\n"
     ]
    }
   ],
   "source": [
    "#10\n",
    "X = [[12,7,3],[4 ,5,6],[7 ,8,9]]\n",
    "\n",
    "Y = [[5,8,1],[6,7,3],[4,5,9]]\n",
    "\n",
    "result = [[X[i][j] + Y[i][j]  for j in range(len(X[0]))] for i in range(len(X))]\n",
    "\n",
    "for r in result:\n",
    "   print(r)"
   ]
  },
  {
   "cell_type": "code",
   "execution_count": 2,
   "metadata": {},
   "outputs": [
    {
     "name": "stdout",
     "output_type": "stream",
     "text": [
      "enter  a number : 56\n",
      "it is a  power of 2\n"
     ]
    }
   ],
   "source": [
    "x = int(input(\"enter  a number : \"))\n",
    "if x==1 :\n",
    "    print(\" it is a  power of 2\")\n",
    "elif x==2 :\n",
    "    print(\"it is a  power of 2\")\n",
    "elif x%4==0:\n",
    "     print(\"it is a  power of 2\")\n",
    "else:\n",
    "     print(\"it is not a  power of 2\")"
   ]
  },
  {
   "cell_type": "code",
   "execution_count": 4,
   "metadata": {},
   "outputs": [
    {
     "name": "stdout",
     "output_type": "stream",
     "text": [
      "enter  a number : 56\n",
      "it is  not a  power of 2\n"
     ]
    }
   ],
   "source": [
    "x = int(input(\"enter  a number : \"))\n",
    "if x&(x-1) == 0 :\n",
    "    print(\"it is a  power of 2\")\n",
    "else:\n",
    "    print(\"it is  not a  power of 2\")\n",
    "\n",
    "    "
   ]
  },
  {
   "cell_type": "code",
   "execution_count": 5,
   "metadata": {},
   "outputs": [
    {
     "data": {
      "text/plain": [
       "0"
      ]
     },
     "execution_count": 5,
     "metadata": {},
     "output_type": "execute_result"
    }
   ],
   "source": [
    "128&123"
   ]
  },
  {
   "cell_type": "code",
   "execution_count": 6,
   "metadata": {},
   "outputs": [
    {
     "data": {
      "text/plain": [
       "0"
      ]
     },
     "execution_count": 6,
     "metadata": {},
     "output_type": "execute_result"
    }
   ],
   "source": [
    "256&255"
   ]
  },
  {
   "cell_type": "code",
   "execution_count": 7,
   "metadata": {},
   "outputs": [
    {
     "data": {
      "text/plain": [
       "0"
      ]
     },
     "execution_count": 7,
     "metadata": {},
     "output_type": "execute_result"
    }
   ],
   "source": [
    "64&63"
   ]
  },
  {
   "cell_type": "code",
   "execution_count": 8,
   "metadata": {},
   "outputs": [
    {
     "data": {
      "text/plain": [
       "0"
      ]
     },
     "execution_count": 8,
     "metadata": {},
     "output_type": "execute_result"
    }
   ],
   "source": [
    "16&15"
   ]
  },
  {
   "cell_type": "code",
   "execution_count": 9,
   "metadata": {},
   "outputs": [
    {
     "data": {
      "text/plain": [
       "'0b10000'"
      ]
     },
     "execution_count": 9,
     "metadata": {},
     "output_type": "execute_result"
    }
   ],
   "source": [
    "bin(16)"
   ]
  },
  {
   "cell_type": "code",
   "execution_count": 10,
   "metadata": {},
   "outputs": [
    {
     "data": {
      "text/plain": [
       "'0b1111'"
      ]
     },
     "execution_count": 10,
     "metadata": {},
     "output_type": "execute_result"
    }
   ],
   "source": [
    "bin(15)"
   ]
  },
  {
   "cell_type": "markdown",
   "metadata": {},
   "source": [
    "## FUNCTIONS"
   ]
  },
  {
   "cell_type": "code",
   "execution_count": 2,
   "metadata": {},
   "outputs": [
    {
     "name": "stdout",
     "output_type": "stream",
     "text": [
      "hello\n"
     ]
    }
   ],
   "source": [
    "#1\n",
    "def got_called():\n",
    "    print(\"hello\")\n",
    "got_called()"
   ]
  },
  {
   "cell_type": "code",
   "execution_count": 3,
   "metadata": {},
   "outputs": [
    {
     "name": "stdout",
     "output_type": "stream",
     "text": [
      "hello\n"
     ]
    },
    {
     "data": {
      "text/plain": [
       "5"
      ]
     },
     "execution_count": 3,
     "metadata": {},
     "output_type": "execute_result"
    }
   ],
   "source": [
    "#2\n",
    "def got_called():\n",
    "    print(\"hello\")\n",
    "    return 5\n",
    "got_called()\n"
   ]
  },
  {
   "cell_type": "code",
   "execution_count": 4,
   "metadata": {},
   "outputs": [
    {
     "name": "stdout",
     "output_type": "stream",
     "text": [
      "hello\n"
     ]
    }
   ],
   "source": [
    "#3\n",
    "def got_called():\n",
    "    print(\"hello\")\n",
    "    return \n",
    "got_called()\n"
   ]
  },
  {
   "cell_type": "code",
   "execution_count": 7,
   "metadata": {},
   "outputs": [
    {
     "name": "stdout",
     "output_type": "stream",
     "text": [
      "hello\n"
     ]
    },
    {
     "data": {
      "text/plain": [
       "11"
      ]
     },
     "execution_count": 7,
     "metadata": {},
     "output_type": "execute_result"
    }
   ],
   "source": [
    "#4\n",
    "def got_called(a,b):\n",
    "    print(\"hello\")\n",
    "    return a+b\n",
    "a=5\n",
    "b=6\n",
    "got_called(a,b)\n"
   ]
  },
  {
   "cell_type": "code",
   "execution_count": 8,
   "metadata": {},
   "outputs": [
    {
     "name": "stdout",
     "output_type": "stream",
     "text": [
      "a= 6\n",
      "b= 5\n",
      "11\n"
     ]
    }
   ],
   "source": [
    "#5\n",
    "def got_called(b,a):\n",
    "    print(\"a=\",a)\n",
    "    print(\"b=\",b)\n",
    "    return a+b\n",
    "a=5\n",
    "b=6\n",
    "r=got_called(a,b)\n",
    "print(r)\n"
   ]
  },
  {
   "cell_type": "code",
   "execution_count": 9,
   "metadata": {},
   "outputs": [
    {
     "name": "stdout",
     "output_type": "stream",
     "text": [
      "a= 5\n",
      "b= 6\n",
      "11\n"
     ]
    }
   ],
   "source": [
    "#6 \n",
    "def got_called(b,a):\n",
    "    print(\"a=\",a)\n",
    "    print(\"b=\",b)\n",
    "    return a+b\n",
    "r=got_called(a=5,b=6)\n",
    "print(r)\n"
   ]
  },
  {
   "cell_type": "code",
   "execution_count": 10,
   "metadata": {},
   "outputs": [
    {
     "name": "stdout",
     "output_type": "stream",
     "text": [
      "a= 6\n",
      "b= 5\n",
      "c= 7\n",
      "18\n",
      "a= 6\n",
      "b= 5\n",
      "c= 3\n",
      "14\n"
     ]
    }
   ],
   "source": [
    "#7\n",
    "def got_called(b,a,c=3):\n",
    "    print(\"a=\",a)\n",
    "    print(\"b=\",b)\n",
    "    print(\"c=\",c)\n",
    "    return a+b+c\n",
    "r=got_called(5,6,7)\n",
    "print(r)\n",
    "r=got_called(5,6) # when we don't pass the value it will take deafult value\n",
    "print(r)\n"
   ]
  },
  {
   "cell_type": "code",
   "execution_count": 1,
   "metadata": {},
   "outputs": [
    {
     "name": "stdout",
     "output_type": "stream",
     "text": [
      "max of [1, 5, 7, 8, 9, 6, 3, 2, 4] is 9\n",
      "min of [1, 5, 7, 8, 9, 6, 3, 2, 4] is 1\n"
     ]
    }
   ],
   "source": [
    "#8\n",
    "def  max_min(l):\n",
    "    return (max(l),min(l))\n",
    "l=[1,5,7,8,9,6,3,2,4]\n",
    "max,min=max_min(l)\n",
    "print(\"max of\",l,\"is\",max)\n",
    "print(\"min of\",l,\"is\",min)"
   ]
  },
  {
   "cell_type": "code",
   "execution_count": 15,
   "metadata": {},
   "outputs": [
    {
     "name": "stdout",
     "output_type": "stream",
     "text": [
      "n= 20\n",
      "n= 10\n",
      "n= 20\n"
     ]
    }
   ],
   "source": [
    "#9\n",
    "def ftwo():\n",
    "    n=10\n",
    "    print(\"n=\",n)\n",
    "def fone():\n",
    "    n=20\n",
    "    print(\"n=\",n)\n",
    "    ftwo()\n",
    "    print(\"n=\",n)\n",
    "fone()"
   ]
  },
  {
   "cell_type": "code",
   "execution_count": 16,
   "metadata": {},
   "outputs": [
    {
     "name": "stdout",
     "output_type": "stream",
     "text": [
      "n= 20\n"
     ]
    },
    {
     "ename": "NameError",
     "evalue": "name 'n' is not defined",
     "output_type": "error",
     "traceback": [
      "\u001b[1;31m---------------------------------------------------------------------------\u001b[0m",
      "\u001b[1;31mNameError\u001b[0m                                 Traceback (most recent call last)",
      "\u001b[1;32m<ipython-input-16-c4cccf2d51d0>\u001b[0m in \u001b[0;36m<module>\u001b[1;34m\u001b[0m\n\u001b[0;32m      7\u001b[0m     \u001b[0mftwo\u001b[0m\u001b[1;33m(\u001b[0m\u001b[1;33m)\u001b[0m\u001b[1;33m\u001b[0m\u001b[1;33m\u001b[0m\u001b[0m\n\u001b[0;32m      8\u001b[0m     \u001b[0mprint\u001b[0m\u001b[1;33m(\u001b[0m\u001b[1;34m\"n=\"\u001b[0m\u001b[1;33m,\u001b[0m\u001b[0mn\u001b[0m\u001b[1;33m)\u001b[0m\u001b[1;33m\u001b[0m\u001b[1;33m\u001b[0m\u001b[0m\n\u001b[1;32m----> 9\u001b[1;33m \u001b[0mfone\u001b[0m\u001b[1;33m(\u001b[0m\u001b[1;33m)\u001b[0m\u001b[1;33m\u001b[0m\u001b[1;33m\u001b[0m\u001b[0m\n\u001b[0m",
      "\u001b[1;32m<ipython-input-16-c4cccf2d51d0>\u001b[0m in \u001b[0;36mfone\u001b[1;34m()\u001b[0m\n\u001b[0;32m      5\u001b[0m     \u001b[0mn\u001b[0m\u001b[1;33m=\u001b[0m\u001b[1;36m20\u001b[0m\u001b[1;33m\u001b[0m\u001b[1;33m\u001b[0m\u001b[0m\n\u001b[0;32m      6\u001b[0m     \u001b[0mprint\u001b[0m\u001b[1;33m(\u001b[0m\u001b[1;34m\"n=\"\u001b[0m\u001b[1;33m,\u001b[0m\u001b[0mn\u001b[0m\u001b[1;33m)\u001b[0m\u001b[1;33m\u001b[0m\u001b[1;33m\u001b[0m\u001b[0m\n\u001b[1;32m----> 7\u001b[1;33m     \u001b[0mftwo\u001b[0m\u001b[1;33m(\u001b[0m\u001b[1;33m)\u001b[0m\u001b[1;33m\u001b[0m\u001b[1;33m\u001b[0m\u001b[0m\n\u001b[0m\u001b[0;32m      8\u001b[0m     \u001b[0mprint\u001b[0m\u001b[1;33m(\u001b[0m\u001b[1;34m\"n=\"\u001b[0m\u001b[1;33m,\u001b[0m\u001b[0mn\u001b[0m\u001b[1;33m)\u001b[0m\u001b[1;33m\u001b[0m\u001b[1;33m\u001b[0m\u001b[0m\n\u001b[0;32m      9\u001b[0m \u001b[0mfone\u001b[0m\u001b[1;33m(\u001b[0m\u001b[1;33m)\u001b[0m\u001b[1;33m\u001b[0m\u001b[1;33m\u001b[0m\u001b[0m\n",
      "\u001b[1;32m<ipython-input-16-c4cccf2d51d0>\u001b[0m in \u001b[0;36mftwo\u001b[1;34m()\u001b[0m\n\u001b[0;32m      1\u001b[0m \u001b[1;31m#10\u001b[0m\u001b[1;33m\u001b[0m\u001b[1;33m\u001b[0m\u001b[1;33m\u001b[0m\u001b[0m\n\u001b[0;32m      2\u001b[0m \u001b[1;32mdef\u001b[0m \u001b[0mftwo\u001b[0m\u001b[1;33m(\u001b[0m\u001b[1;33m)\u001b[0m\u001b[1;33m:\u001b[0m\u001b[1;33m\u001b[0m\u001b[1;33m\u001b[0m\u001b[0m\n\u001b[1;32m----> 3\u001b[1;33m     \u001b[0mprint\u001b[0m\u001b[1;33m(\u001b[0m\u001b[1;34m\"n=\"\u001b[0m\u001b[1;33m,\u001b[0m\u001b[0mn\u001b[0m\u001b[1;33m)\u001b[0m\u001b[1;33m\u001b[0m\u001b[1;33m\u001b[0m\u001b[0m\n\u001b[0m\u001b[0;32m      4\u001b[0m \u001b[1;32mdef\u001b[0m \u001b[0mfone\u001b[0m\u001b[1;33m(\u001b[0m\u001b[1;33m)\u001b[0m\u001b[1;33m:\u001b[0m\u001b[1;33m\u001b[0m\u001b[1;33m\u001b[0m\u001b[0m\n\u001b[0;32m      5\u001b[0m     \u001b[0mn\u001b[0m\u001b[1;33m=\u001b[0m\u001b[1;36m20\u001b[0m\u001b[1;33m\u001b[0m\u001b[1;33m\u001b[0m\u001b[0m\n",
      "\u001b[1;31mNameError\u001b[0m: name 'n' is not defined"
     ]
    }
   ],
   "source": [
    "#10\n",
    "def ftwo():\n",
    "    print(\"n=\",n)\n",
    "def fone():\n",
    "    n=20\n",
    "    print(\"n=\",n)\n",
    "    ftwo()\n",
    "    print(\"n=\",n)\n",
    "fone()"
   ]
  },
  {
   "cell_type": "code",
   "execution_count": 17,
   "metadata": {},
   "outputs": [
    {
     "name": "stdout",
     "output_type": "stream",
     "text": [
      "n= 20\n",
      "n= 9\n",
      "n= 20\n",
      "9\n"
     ]
    }
   ],
   "source": [
    "#11\n",
    "def fun_two():\n",
    "    print(\"n=\",n)\n",
    "    \n",
    "def fun_one():\n",
    "    n=20\n",
    "    print(\"n=\",n)\n",
    "    fun_two()\n",
    "    print(\"n=\",n)\n",
    "n=9 \n",
    "fun_one()\n",
    "print(n)"
   ]
  },
  {
   "cell_type": "code",
   "execution_count": 18,
   "metadata": {},
   "outputs": [
    {
     "name": "stdout",
     "output_type": "stream",
     "text": [
      "enter a number to find factorial of it \n",
      "6\n",
      "the factorial of  6 is 720\n"
     ]
    }
   ],
   "source": [
    "#12\n",
    "def factorial(n):\n",
    "    if n==0:\n",
    "        return 1\n",
    "    else:\n",
    "        return n*factorial(n-1)\n",
    "n = int(input(\"enter a number to find factorial of it \\n\"))\n",
    "f=factorial(n)\n",
    "print(\"the factorial of \", n,\"is\",f)"
   ]
  },
  {
   "cell_type": "code",
   "execution_count": 19,
   "metadata": {},
   "outputs": [
    {
     "name": "stdout",
     "output_type": "stream",
     "text": [
      "1\n",
      "12\n",
      "123\n",
      "1234\n"
     ]
    }
   ],
   "source": [
    "#13\n",
    "def fun(*args):\n",
    "    for i in args:\n",
    "        print(i,end='')\n",
    "    print()\n",
    "fun(1)\n",
    "fun(1,2)\n",
    "fun(1,2,3)\n",
    "fun(1,2,3,4)"
   ]
  },
  {
   "cell_type": "code",
   "execution_count": 20,
   "metadata": {},
   "outputs": [
    {
     "data": {
      "text/plain": [
       "3"
      ]
     },
     "execution_count": 20,
     "metadata": {},
     "output_type": "execute_result"
    }
   ],
   "source": [
    "3*1**3"
   ]
  },
  {
   "cell_type": "markdown",
   "metadata": {},
   "source": [
    "## Modules "
   ]
  },
  {
   "cell_type": "code",
   "execution_count": 4,
   "metadata": {},
   "outputs": [
    {
     "name": "stdout",
     "output_type": "stream",
     "text": [
      "Hello fun - 1\n",
      "Hello fun - 2\n",
      "I am your function\n",
      "\n"
     ]
    }
   ],
   "source": [
    "import mymodule\n",
    "from mymodule import fun_one\n",
    "fun_one( )\n",
    "mymodule.fun_two( )\n",
    "def fun_one( ):\n",
    "    print(\"I am your function\\n\")\n",
    "fun_one()"
   ]
  },
  {
   "cell_type": "code",
   "execution_count": 9,
   "metadata": {},
   "outputs": [
    {
     "name": "stdout",
     "output_type": "stream",
     "text": [
      "I am your function\n",
      "\n"
     ]
    }
   ],
   "source": [
    "import mymodule\n",
    "fun_one()\n",
    "def fun_one( ):\n",
    "    print(\"I am your function\\n\")\n"
   ]
  },
  {
   "cell_type": "code",
   "execution_count": 8,
   "metadata": {},
   "outputs": [
    {
     "name": "stdout",
     "output_type": "stream",
     "text": [
      "5\n"
     ]
    }
   ],
   "source": [
    "#assignment3\n",
    "from math import factorial as f\n",
    "def f(n):\n",
    "    print(n)\n",
    "f(5)"
   ]
  },
  {
   "cell_type": "code",
   "execution_count": 10,
   "metadata": {},
   "outputs": [
    {
     "name": "stdout",
     "output_type": "stream",
     "text": [
      "I am your function\n",
      "\n"
     ]
    }
   ],
   "source": [
    "fun_one()"
   ]
  },
  {
   "cell_type": "code",
   "execution_count": 1,
   "metadata": {},
   "outputs": [
    {
     "name": "stdout",
     "output_type": "stream",
     "text": [
      "6\n"
     ]
    }
   ],
   "source": [
    "res= __builtins__.sum([1,2,3])\n",
    "print(res)"
   ]
  },
  {
   "cell_type": "code",
   "execution_count": 3,
   "metadata": {},
   "outputs": [
    {
     "name": "stdout",
     "output_type": "stream",
     "text": [
      "2\n",
      "4\n",
      "8\n",
      "16\n",
      "32\n",
      "64\n",
      "128\n",
      "256\n",
      "512\n",
      "1024\n"
     ]
    }
   ],
   "source": [
    "x=range(1,11)\n",
    "for i in x:\n",
    "    print(2**i)"
   ]
  },
  {
   "cell_type": "code",
   "execution_count": 4,
   "metadata": {},
   "outputs": [
    {
     "data": {
      "text/plain": [
       "'蓏콯캁澽苏'"
      ]
     },
     "execution_count": 4,
     "metadata": {},
     "output_type": "execute_result"
    }
   ],
   "source": [
    "b'\\xcf\\x84o\\xcf\\x81\\xce\\xbdo\\xcf\\x82'.decode('utf-16')"
   ]
  },
  {
   "cell_type": "code",
   "execution_count": 8,
   "metadata": {},
   "outputs": [
    {
     "data": {
      "text/plain": [
       "'τoρνoς'"
      ]
     },
     "execution_count": 8,
     "metadata": {},
     "output_type": "execute_result"
    }
   ],
   "source": [
    "b'\\xcf\\x84o\\xcf\\x81\\xce\\xbdo\\xcf\\x82'.decode('utf-8')"
   ]
  },
  {
   "cell_type": "code",
   "execution_count": 10,
   "metadata": {},
   "outputs": [
    {
     "data": {
      "text/plain": [
       "'Foo © bar 𝌆 baz ☃ qux'"
      ]
     },
     "execution_count": 10,
     "metadata": {},
     "output_type": "execute_result"
    }
   ],
   "source": [
    "b'\\x46\\x6F\\x6F\\x20\\xC2\\xA9\\x20\\x62\\x61\\x72\\x20\\xF0\\x9D\\x8C\\x86\\x20\\x62\\x61\\x7A\\x20\\xE2\\x98\\x83\\x20\\x71\\x75\\x78'.decode('utf-8')"
   ]
  },
  {
   "cell_type": "code",
   "execution_count": 15,
   "metadata": {},
   "outputs": [
    {
     "ename": "TypeError",
     "evalue": "can only concatenate str (not \"bytes\") to str",
     "output_type": "error",
     "traceback": [
      "\u001b[1;31m---------------------------------------------------------------------------\u001b[0m",
      "\u001b[1;31mTypeError\u001b[0m                                 Traceback (most recent call last)",
      "\u001b[1;32m<ipython-input-15-4e6ce641ac0e>\u001b[0m in \u001b[0;36m<module>\u001b[1;34m\u001b[0m\n\u001b[0;32m      4\u001b[0m \u001b[0mStr\u001b[0m \u001b[1;33m=\u001b[0m \u001b[0mStr\u001b[0m\u001b[1;33m.\u001b[0m\u001b[0mencode\u001b[0m\u001b[1;33m(\u001b[0m\u001b[1;34m'utf-8'\u001b[0m\u001b[1;33m)\u001b[0m\u001b[1;33m\u001b[0m\u001b[1;33m\u001b[0m\u001b[0m\n\u001b[0;32m      5\u001b[0m \u001b[1;33m\u001b[0m\u001b[0m\n\u001b[1;32m----> 6\u001b[1;33m \u001b[0mprint\u001b[0m\u001b[1;33m(\u001b[0m\u001b[1;34m\"Encoded String: \"\u001b[0m \u001b[1;33m+\u001b[0m \u001b[0mStr\u001b[0m\u001b[1;33m)\u001b[0m\u001b[1;33m\u001b[0m\u001b[1;33m\u001b[0m\u001b[0m\n\u001b[0m\u001b[0;32m      7\u001b[0m \u001b[0mprint\u001b[0m\u001b[1;33m(\u001b[0m\u001b[1;34m\"Decoded String: \"\u001b[0m \u001b[1;33m+\u001b[0m \u001b[0mStr\u001b[0m\u001b[1;33m.\u001b[0m\u001b[0mdecode\u001b[0m\u001b[1;33m(\u001b[0m\u001b[1;34m'base64'\u001b[0m\u001b[1;33m,\u001b[0m\u001b[1;34m'strict'\u001b[0m\u001b[1;33m)\u001b[0m\u001b[1;33m)\u001b[0m\u001b[1;33m\u001b[0m\u001b[1;33m\u001b[0m\u001b[0m\n",
      "\u001b[1;31mTypeError\u001b[0m: can only concatenate str (not \"bytes\") to str"
     ]
    }
   ],
   "source": [
    "#!/usr/bin/python\n",
    "\n",
    "Str = \"this is string example....wow!!!\"\n",
    "Str = Str.encode('utf-8')\n",
    "\n",
    "print(\"Encoded String: \" + Str)\n",
    "print(\"Decoded String: \" + Str.decode('base64','strict'))"
   ]
  },
  {
   "cell_type": "code",
   "execution_count": 1,
   "metadata": {},
   "outputs": [
    {
     "name": "stdout",
     "output_type": "stream",
     "text": [
      "Spaces =  5\n"
     ]
    }
   ],
   "source": [
    "fp_one = open(\"file_one.txt\", \"r\")\n",
    "line = ''\n",
    "line = fp_one.readline()\n",
    "spaces = 0\n",
    "while line != '':\n",
    "    for ch in line:\n",
    "        if( ch == ' ' ):\n",
    "            spaces = spaces + 1\n",
    "    line = fp_one.readline()\n",
    "print( \"Spaces = \", spaces )"
   ]
  },
  {
   "cell_type": "code",
   "execution_count": 2,
   "metadata": {},
   "outputs": [
    {
     "name": "stdout",
     "output_type": "stream",
     "text": [
      "Spaces =  5\n"
     ]
    }
   ],
   "source": [
    "fp_one = open(\"file_one.txt\", \"r\")\n",
    "line = ''\n",
    "line = fp_one.readline()\n",
    "space = 0\n",
    "while line != '':\n",
    "    for i in range(0,len(line)):\n",
    "        if( line[i] == ' ' ):\n",
    "            space = space + 1\n",
    "    line = fp_one.readline()\n",
    "print( \"Spaces = \", space )"
   ]
  },
  {
   "cell_type": "code",
   "execution_count": 3,
   "metadata": {},
   "outputs": [
    {
     "ename": "FileNotFoundError",
     "evalue": "[Errno 2] No such file or directory: 'PPP.png'",
     "output_type": "error",
     "traceback": [
      "\u001b[1;31m---------------------------------------------------------------------------\u001b[0m",
      "\u001b[1;31mFileNotFoundError\u001b[0m                         Traceback (most recent call last)",
      "\u001b[1;32m<ipython-input-3-9fc5e8c5d4a1>\u001b[0m in \u001b[0;36m<module>\u001b[1;34m\u001b[0m\n\u001b[0;32m      1\u001b[0m \u001b[1;32mimport\u001b[0m \u001b[0mos\u001b[0m\u001b[1;33m\u001b[0m\u001b[1;33m\u001b[0m\u001b[0m\n\u001b[1;32m----> 2\u001b[1;33m \u001b[0mfp\u001b[0m \u001b[1;33m=\u001b[0m \u001b[0mopen\u001b[0m\u001b[1;33m(\u001b[0m\u001b[1;34m\"PPP.png\"\u001b[0m\u001b[1;33m,\u001b[0m \u001b[1;34m\"r\"\u001b[0m \u001b[1;33m)\u001b[0m\u001b[1;33m\u001b[0m\u001b[1;33m\u001b[0m\u001b[0m\n\u001b[0m\u001b[0;32m      3\u001b[0m \u001b[0mprint\u001b[0m\u001b[1;33m(\u001b[0m\u001b[0mfp\u001b[0m\u001b[1;33m.\u001b[0m\u001b[0mread\u001b[0m\u001b[1;33m(\u001b[0m \u001b[1;33m)\u001b[0m\u001b[1;33m)\u001b[0m\u001b[1;33m\u001b[0m\u001b[1;33m\u001b[0m\u001b[0m\n",
      "\u001b[1;31mFileNotFoundError\u001b[0m: [Errno 2] No such file or directory: 'PPP.png'"
     ]
    }
   ],
   "source": [
    "import os\n",
    "fp = open(\"PPP.png\", \"r\" )\n",
    "print(fp.read( ))"
   ]
  },
  {
   "cell_type": "code",
   "execution_count": 8,
   "metadata": {},
   "outputs": [
    {
     "name": "stdout",
     "output_type": "stream",
     "text": [
      "b''\n"
     ]
    }
   ],
   "source": [
    "import os\n",
    "fp = open(\"PPP.png\", \"wb+\" )\n",
    "print(fp.read( ))"
   ]
  },
  {
   "cell_type": "code",
   "execution_count": 9,
   "metadata": {},
   "outputs": [
    {
     "name": "stdout",
     "output_type": "stream",
     "text": [
      "\n"
     ]
    }
   ],
   "source": [
    "import os\n",
    "fp = open(\"PPP.png\", \"r\" )\n",
    "print(fp.read( ))"
   ]
  },
  {
   "cell_type": "code",
   "execution_count": 18,
   "metadata": {},
   "outputs": [
    {
     "name": "stdout",
     "output_type": "stream",
     "text": [
      "b'Hello\\nHello\\nHello\\n'\n",
      "b''\n"
     ]
    }
   ],
   "source": [
    "import os\n",
    "fp = open(\"f.bin\", \"wb\")\n",
    "fp.write(b\"Hello\\nHello\\nHello\\n\")\n",
    "fp.close()\n",
    "fp = open(\"f.bin\", \"rb\")\n",
    "print(fp.read( ))"
   ]
  },
  {
   "cell_type": "code",
   "execution_count": 26,
   "metadata": {},
   "outputs": [
    {
     "name": "stdout",
     "output_type": "stream",
     "text": [
      "b'Hello'\n"
     ]
    }
   ],
   "source": [
    "f = open(\"fileone.bin\", \"w+b\")\n",
    "f.write(b\"Hello\")\n",
    "f = open(\"fileone.bin\", \"rb\")\n",
    "print(f.read( ))"
   ]
  },
  {
   "cell_type": "code",
   "execution_count": 28,
   "metadata": {},
   "outputs": [
    {
     "name": "stdout",
     "output_type": "stream",
     "text": [
      "b'Hello'\n"
     ]
    }
   ],
   "source": [
    "f = open(\"fileone.bin\", \"w+b\")\n",
    "f.write(\"Hello\".encode( ))\n",
    "f.close()\n",
    "f = open(\"fileone.bin\", \"rb\")\n",
    "print(f.read( ))"
   ]
  },
  {
   "cell_type": "code",
   "execution_count": 31,
   "metadata": {},
   "outputs": [
    {
     "name": "stdout",
     "output_type": "stream",
     "text": [
      "b'ello'\n"
     ]
    }
   ],
   "source": [
    "f = open(\"fileone.bin\", \"w+b\")\n",
    "f.write(\"Hello\".encode())\n",
    "f.seek(1)\n",
    "str = f.read( )\n",
    "print(str)\n",
    "f.close( )"
   ]
  },
  {
   "cell_type": "code",
   "execution_count": 32,
   "metadata": {},
   "outputs": [
    {
     "name": "stdout",
     "output_type": "stream",
     "text": [
      "Hello\n"
     ]
    }
   ],
   "source": [
    "f = open(\"fileone.bin\", \"w+b\")\n",
    "f.write(\"Hello\".encode( ))\n",
    "f.seek(0)\n",
    "str = f.read()\n",
    "print(str.decode())\n",
    "f.close()"
   ]
  },
  {
   "cell_type": "code",
   "execution_count": 34,
   "metadata": {},
   "outputs": [
    {
     "data": {
      "text/plain": [
       "b'\\xe8\\x93\\x8f\\xec\\xbd\\xaf\\xec\\xba\\x81\\xe6\\xbe\\xbd\\xe8\\x8b\\x8f'"
      ]
     },
     "execution_count": 34,
     "metadata": {},
     "output_type": "execute_result"
    }
   ],
   "source": [
    "'蓏콯캁澽苏'.encode('utf-8')"
   ]
  },
  {
   "cell_type": "code",
   "execution_count": 35,
   "metadata": {},
   "outputs": [
    {
     "data": {
      "text/plain": [
       "b'\\xcf\\x84o\\xcf\\x81\\xce\\xbdo\\xcf\\x82'"
      ]
     },
     "execution_count": 35,
     "metadata": {},
     "output_type": "execute_result"
    }
   ],
   "source": [
    "'τoρνoς'.encode('utf-8')"
   ]
  },
  {
   "cell_type": "code",
   "execution_count": 36,
   "metadata": {},
   "outputs": [
    {
     "data": {
      "text/plain": [
       "b'hi anji'"
      ]
     },
     "execution_count": 36,
     "metadata": {},
     "output_type": "execute_result"
    }
   ],
   "source": [
    "'hi anji'.encode('utf-8')"
   ]
  },
  {
   "cell_type": "code",
   "execution_count": 37,
   "metadata": {},
   "outputs": [
    {
     "data": {
      "text/plain": [
       "'hi anji'"
      ]
     },
     "execution_count": 37,
     "metadata": {},
     "output_type": "execute_result"
    }
   ],
   "source": [
    "b'hi anji'.decode()"
   ]
  },
  {
   "cell_type": "code",
   "execution_count": 50,
   "metadata": {},
   "outputs": [
    {
     "data": {
      "text/plain": [
       "'C:\\\\Users\\\\Lenovo\\\\Desktop\\\\subhash_programming_classess'"
      ]
     },
     "execution_count": 50,
     "metadata": {},
     "output_type": "execute_result"
    }
   ],
   "source": [
    "import os\n",
    "cwd = os.getcwd()\n",
    "cwd"
   ]
  },
  {
   "cell_type": "code",
   "execution_count": 41,
   "metadata": {},
   "outputs": [
    {
     "data": {
      "text/plain": [
       "'C:\\\\Users\\\\Lenovo\\\\Desktop\\\\subhash_programming_classess\\\\equal.py'"
      ]
     },
     "execution_count": 41,
     "metadata": {},
     "output_type": "execute_result"
    }
   ],
   "source": [
    "os.path.abspath('equal.py')"
   ]
  },
  {
   "cell_type": "code",
   "execution_count": 43,
   "metadata": {},
   "outputs": [
    {
     "data": {
      "text/plain": [
       "True"
      ]
     },
     "execution_count": 43,
     "metadata": {},
     "output_type": "execute_result"
    }
   ],
   "source": [
    "os.path.isdir('C:\\\\Users\\\\Lenovo')"
   ]
  },
  {
   "cell_type": "code",
   "execution_count": 48,
   "metadata": {},
   "outputs": [
    {
     "data": {
      "text/plain": [
       "['.ipynb_checkpoints',\n",
       " '40 Python Interview Questions & Answers.pdf',\n",
       " 'assignments',\n",
       " 'assignments.zip',\n",
       " 'Durga python notes.pdf',\n",
       " 'f.bin',\n",
       " 'fileone.bin',\n",
       " 'file_1.txt',\n",
       " 'file_one.txt',\n",
       " 'file_two.txt',\n",
       " 'functions.ipynb',\n",
       " 'FUNCTIONS_.ipynb',\n",
       " 'Lesson-1-A Quick Refresher - General Knowledge.pdf',\n",
       " 'Lesson-2-Introducing Python Programming Language.pdf',\n",
       " 'Lesson-3-Data Types And Literals.pdf',\n",
       " 'Lesson-4-Operators.pdf',\n",
       " 'Lesson-5-Control Structures.pdf',\n",
       " 'Lesson-6-Lists And Tuples.pdf',\n",
       " 'Lesson-7-Functions.pdf',\n",
       " 'Lesson-8-Modules.pdf',\n",
       " 'Lesson-9-Files.pdf',\n",
       " 'mymodule.py',\n",
       " 'mymodule2.ipynb',\n",
       " 'mymodule2.py',\n",
       " 'operators_programmingassignments solutions',\n",
       " 'Pandas in 8 Pages.pdf',\n",
       " 'PPP.png',\n",
       " 'Python 3.pdf',\n",
       " 'Python-Basics-Handbook.pdf',\n",
       " 'pythonlearn.pdf',\n",
       " 'revision from scratch.ipynb',\n",
       " 'subhash sir.ipynb',\n",
       " 'Untitled.ipynb',\n",
       " 'Untitled1.ipynb',\n",
       " 'Untitled2.ipynb',\n",
       " 'Untitled3.ipynb',\n",
       " 'Untitled4.ipynb',\n",
       " 'Untitled5.ipynb',\n",
       " '__MACOSX',\n",
       " '__pycache__']"
      ]
     },
     "execution_count": 48,
     "metadata": {},
     "output_type": "execute_result"
    }
   ],
   "source": [
    "import os\n",
    "os.listdir(cwd)"
   ]
  },
  {
   "cell_type": "code",
   "execution_count": 1,
   "metadata": {},
   "outputs": [],
   "source": [
    "import os\n",
    "def walk(dirname):\n",
    "    for name in os.listdir(dirname):\n",
    "        path = os.path.join(dirname, name)\n",
    "        if os.path.isfile(path):\n",
    "            print(path)\n",
    "        else:\n",
    "            walk(path)"
   ]
  },
  {
   "cell_type": "code",
   "execution_count": 4,
   "metadata": {},
   "outputs": [
    {
     "name": "stdout",
     "output_type": "stream",
     "text": [
      "C:\\Users\\Lenovo\\Desktop\\subhash_programming_classess\\.ipynb_checkpoints\\functions-checkpoint.ipynb\n",
      "C:\\Users\\Lenovo\\Desktop\\subhash_programming_classess\\.ipynb_checkpoints\\FUNCTIONS_-checkpoint.ipynb\n",
      "C:\\Users\\Lenovo\\Desktop\\subhash_programming_classess\\.ipynb_checkpoints\\mymodule2-checkpoint.ipynb\n",
      "C:\\Users\\Lenovo\\Desktop\\subhash_programming_classess\\.ipynb_checkpoints\\revision from scratch-checkpoint.ipynb\n",
      "C:\\Users\\Lenovo\\Desktop\\subhash_programming_classess\\.ipynb_checkpoints\\subhash sir-checkpoint.ipynb\n",
      "C:\\Users\\Lenovo\\Desktop\\subhash_programming_classess\\.ipynb_checkpoints\\Untitled-checkpoint.ipynb\n",
      "C:\\Users\\Lenovo\\Desktop\\subhash_programming_classess\\.ipynb_checkpoints\\Untitled1-checkpoint.ipynb\n",
      "C:\\Users\\Lenovo\\Desktop\\subhash_programming_classess\\.ipynb_checkpoints\\Untitled2-checkpoint.ipynb\n",
      "C:\\Users\\Lenovo\\Desktop\\subhash_programming_classess\\.ipynb_checkpoints\\Untitled3-checkpoint.ipynb\n",
      "C:\\Users\\Lenovo\\Desktop\\subhash_programming_classess\\.ipynb_checkpoints\\Untitled4-checkpoint.ipynb\n",
      "C:\\Users\\Lenovo\\Desktop\\subhash_programming_classess\\.ipynb_checkpoints\\Untitled5-checkpoint.ipynb\n",
      "C:\\Users\\Lenovo\\Desktop\\subhash_programming_classess\\40 Python Interview Questions & Answers.pdf\n",
      "C:\\Users\\Lenovo\\Desktop\\subhash_programming_classess\\assignments\\.DS_Store\n",
      "C:\\Users\\Lenovo\\Desktop\\subhash_programming_classess\\assignments\\functions\\1.py\n",
      "C:\\Users\\Lenovo\\Desktop\\subhash_programming_classess\\assignments\\functions\\3.py\n",
      "C:\\Users\\Lenovo\\Desktop\\subhash_programming_classess\\assignments\\functions\\4.py\n",
      "C:\\Users\\Lenovo\\Desktop\\subhash_programming_classess\\assignments\\functions\\5.py\n",
      "C:\\Users\\Lenovo\\Desktop\\subhash_programming_classess\\assignments\\functions\\6.py\n",
      "C:\\Users\\Lenovo\\Desktop\\subhash_programming_classess\\assignments\\ListAndTuples\\1.py\n",
      "C:\\Users\\Lenovo\\Desktop\\subhash_programming_classess\\assignments\\ListAndTuples\\2.py\n",
      "C:\\Users\\Lenovo\\Desktop\\subhash_programming_classess\\assignments\\ListAndTuples\\3.py\n",
      "C:\\Users\\Lenovo\\Desktop\\subhash_programming_classess\\assignments\\ListAndTuples\\4.py\n",
      "C:\\Users\\Lenovo\\Desktop\\subhash_programming_classess\\assignments\\ListAndTuples\\5.py\n",
      "C:\\Users\\Lenovo\\Desktop\\subhash_programming_classess\\assignments\\ListAndTuples\\6.py\n",
      "C:\\Users\\Lenovo\\Desktop\\subhash_programming_classess\\assignments\\ListAndTuples\\7.py\n",
      "C:\\Users\\Lenovo\\Desktop\\subhash_programming_classess\\assignments\\ListAndTuples\\8.py\n",
      "C:\\Users\\Lenovo\\Desktop\\subhash_programming_classess\\assignments\\ListAndTuples\\9.py\n",
      "C:\\Users\\Lenovo\\Desktop\\subhash_programming_classess\\assignments.zip\n",
      "C:\\Users\\Lenovo\\Desktop\\subhash_programming_classess\\Durga python notes.pdf\n",
      "C:\\Users\\Lenovo\\Desktop\\subhash_programming_classess\\f.bin\n",
      "C:\\Users\\Lenovo\\Desktop\\subhash_programming_classess\\fileone.bin\n",
      "C:\\Users\\Lenovo\\Desktop\\subhash_programming_classess\\file_1.txt\n",
      "C:\\Users\\Lenovo\\Desktop\\subhash_programming_classess\\file_one.txt\n",
      "C:\\Users\\Lenovo\\Desktop\\subhash_programming_classess\\file_two.txt\n",
      "C:\\Users\\Lenovo\\Desktop\\subhash_programming_classess\\functions.ipynb\n",
      "C:\\Users\\Lenovo\\Desktop\\subhash_programming_classess\\FUNCTIONS_.ipynb\n",
      "C:\\Users\\Lenovo\\Desktop\\subhash_programming_classess\\Lesson-1-A Quick Refresher - General Knowledge.pdf\n",
      "C:\\Users\\Lenovo\\Desktop\\subhash_programming_classess\\Lesson-2-Introducing Python Programming Language.pdf\n",
      "C:\\Users\\Lenovo\\Desktop\\subhash_programming_classess\\Lesson-3-Data Types And Literals.pdf\n",
      "C:\\Users\\Lenovo\\Desktop\\subhash_programming_classess\\Lesson-4-Operators.pdf\n",
      "C:\\Users\\Lenovo\\Desktop\\subhash_programming_classess\\Lesson-5-Control Structures.pdf\n",
      "C:\\Users\\Lenovo\\Desktop\\subhash_programming_classess\\Lesson-6-Lists And Tuples.pdf\n",
      "C:\\Users\\Lenovo\\Desktop\\subhash_programming_classess\\Lesson-7-Functions.pdf\n",
      "C:\\Users\\Lenovo\\Desktop\\subhash_programming_classess\\Lesson-8-Modules.pdf\n",
      "C:\\Users\\Lenovo\\Desktop\\subhash_programming_classess\\Lesson-9-Files.pdf\n",
      "C:\\Users\\Lenovo\\Desktop\\subhash_programming_classess\\mymodule.py\n",
      "C:\\Users\\Lenovo\\Desktop\\subhash_programming_classess\\mymodule2.ipynb\n",
      "C:\\Users\\Lenovo\\Desktop\\subhash_programming_classess\\mymodule2.py\n",
      "C:\\Users\\Lenovo\\Desktop\\subhash_programming_classess\\operators_programmingassignments solutions\\programmingassignments\\p1.py\n",
      "C:\\Users\\Lenovo\\Desktop\\subhash_programming_classess\\operators_programmingassignments solutions\\programmingassignments\\p2.py\n",
      "C:\\Users\\Lenovo\\Desktop\\subhash_programming_classess\\operators_programmingassignments solutions\\programmingassignments\\p3.py\n",
      "C:\\Users\\Lenovo\\Desktop\\subhash_programming_classess\\operators_programmingassignments solutions\\programmingassignments\\p4.py\n",
      "C:\\Users\\Lenovo\\Desktop\\subhash_programming_classess\\operators_programmingassignments solutions\\programmingassignments\\p5.py\n",
      "C:\\Users\\Lenovo\\Desktop\\subhash_programming_classess\\operators_programmingassignments solutions\\programmingassignments\\p6.py\n",
      "C:\\Users\\Lenovo\\Desktop\\subhash_programming_classess\\operators_programmingassignments solutions\\programmingassignments\\p7.py\n",
      "C:\\Users\\Lenovo\\Desktop\\subhash_programming_classess\\operators_programmingassignments solutions\\programmingassignments\\p8.py\n",
      "C:\\Users\\Lenovo\\Desktop\\subhash_programming_classess\\operators_programmingassignments solutions\\programmingassignments\\p9.py\n",
      "C:\\Users\\Lenovo\\Desktop\\subhash_programming_classess\\Pandas in 8 Pages.pdf\n",
      "C:\\Users\\Lenovo\\Desktop\\subhash_programming_classess\\PPP.png\n",
      "C:\\Users\\Lenovo\\Desktop\\subhash_programming_classess\\Python 3.pdf\n",
      "C:\\Users\\Lenovo\\Desktop\\subhash_programming_classess\\Python-Basics-Handbook.pdf\n",
      "C:\\Users\\Lenovo\\Desktop\\subhash_programming_classess\\pythonlearn.pdf\n",
      "C:\\Users\\Lenovo\\Desktop\\subhash_programming_classess\\revision from scratch.ipynb\n",
      "C:\\Users\\Lenovo\\Desktop\\subhash_programming_classess\\subhash sir.ipynb\n",
      "C:\\Users\\Lenovo\\Desktop\\subhash_programming_classess\\Untitled.ipynb\n",
      "C:\\Users\\Lenovo\\Desktop\\subhash_programming_classess\\Untitled1.ipynb\n",
      "C:\\Users\\Lenovo\\Desktop\\subhash_programming_classess\\Untitled2.ipynb\n",
      "C:\\Users\\Lenovo\\Desktop\\subhash_programming_classess\\Untitled3.ipynb\n",
      "C:\\Users\\Lenovo\\Desktop\\subhash_programming_classess\\Untitled4.ipynb\n",
      "C:\\Users\\Lenovo\\Desktop\\subhash_programming_classess\\Untitled5.ipynb\n",
      "C:\\Users\\Lenovo\\Desktop\\subhash_programming_classess\\__MACOSX\\assignments\\._.DS_Store\n",
      "C:\\Users\\Lenovo\\Desktop\\subhash_programming_classess\\__MACOSX\\assignments\\._ListAndTuples\n",
      "C:\\Users\\Lenovo\\Desktop\\subhash_programming_classess\\__MACOSX\\assignments\\ListAndTuples\\._1.py\n",
      "C:\\Users\\Lenovo\\Desktop\\subhash_programming_classess\\__MACOSX\\assignments\\ListAndTuples\\._2.py\n",
      "C:\\Users\\Lenovo\\Desktop\\subhash_programming_classess\\__MACOSX\\assignments\\ListAndTuples\\._3.py\n",
      "C:\\Users\\Lenovo\\Desktop\\subhash_programming_classess\\__MACOSX\\assignments\\ListAndTuples\\._4.py\n",
      "C:\\Users\\Lenovo\\Desktop\\subhash_programming_classess\\__MACOSX\\assignments\\ListAndTuples\\._5.py\n",
      "C:\\Users\\Lenovo\\Desktop\\subhash_programming_classess\\__MACOSX\\assignments\\ListAndTuples\\._6.py\n",
      "C:\\Users\\Lenovo\\Desktop\\subhash_programming_classess\\__MACOSX\\assignments\\ListAndTuples\\._7.py\n",
      "C:\\Users\\Lenovo\\Desktop\\subhash_programming_classess\\__MACOSX\\assignments\\ListAndTuples\\._8.py\n",
      "C:\\Users\\Lenovo\\Desktop\\subhash_programming_classess\\__MACOSX\\assignments\\ListAndTuples\\._9.py\n",
      "C:\\Users\\Lenovo\\Desktop\\subhash_programming_classess\\__pycache__\\mymodule.cpython-38.pyc\n",
      "C:\\Users\\Lenovo\\Desktop\\subhash_programming_classess\\__pycache__\\mymodule2.cpython-38.pyc\n"
     ]
    }
   ],
   "source": [
    "walk(\"C:\\\\Users\\Lenovo\\Desktop\\subhash_programming_classess\")"
   ]
  },
  {
   "cell_type": "code",
   "execution_count": 8,
   "metadata": {},
   "outputs": [
    {
     "ename": "NameError",
     "evalue": "name 'dirname' is not defined",
     "output_type": "error",
     "traceback": [
      "\u001b[1;31m---------------------------------------------------------------------------\u001b[0m",
      "\u001b[1;31mNameError\u001b[0m                                 Traceback (most recent call last)",
      "\u001b[1;32m<ipython-input-8-ae396bc26ac8>\u001b[0m in \u001b[0;36m<module>\u001b[1;34m\u001b[0m\n\u001b[1;32m----> 1\u001b[1;33m \u001b[0mpath\u001b[0m \u001b[1;33m=\u001b[0m \u001b[0mos\u001b[0m\u001b[1;33m.\u001b[0m\u001b[0mpath\u001b[0m\u001b[1;33m.\u001b[0m\u001b[0mjoin\u001b[0m\u001b[1;33m(\u001b[0m\u001b[0mdirname\u001b[0m\u001b[1;33m,\u001b[0m \u001b[0mname\u001b[0m\u001b[1;33m)\u001b[0m\u001b[1;33m\u001b[0m\u001b[1;33m\u001b[0m\u001b[0m\n\u001b[0m\u001b[0;32m      2\u001b[0m \u001b[1;32mif\u001b[0m \u001b[0mos\u001b[0m\u001b[1;33m.\u001b[0m\u001b[0mpath\u001b[0m\u001b[1;33m.\u001b[0m\u001b[0misfile\u001b[0m\u001b[1;33m(\u001b[0m\u001b[0mpath\u001b[0m\u001b[1;33m)\u001b[0m\u001b[1;33m:\u001b[0m\u001b[1;33m\u001b[0m\u001b[1;33m\u001b[0m\u001b[0m\n\u001b[0;32m      3\u001b[0m     \u001b[0mprint\u001b[0m\u001b[1;33m(\u001b[0m\u001b[0mpath\u001b[0m\u001b[1;33m)\u001b[0m\u001b[1;33m\u001b[0m\u001b[1;33m\u001b[0m\u001b[0m\n\u001b[0;32m      4\u001b[0m \u001b[1;32melse\u001b[0m\u001b[1;33m:\u001b[0m\u001b[1;33m\u001b[0m\u001b[1;33m\u001b[0m\u001b[0m\n\u001b[0;32m      5\u001b[0m     \u001b[0mwalk\u001b[0m\u001b[1;33m(\u001b[0m\u001b[0mpath\u001b[0m\u001b[1;33m)\u001b[0m\u001b[1;33m\u001b[0m\u001b[1;33m\u001b[0m\u001b[0m\n",
      "\u001b[1;31mNameError\u001b[0m: name 'dirname' is not defined"
     ]
    }
   ],
   "source": [
    "path = os.path.join(dirname, name)\n",
    "if os.path.isfile(path):\n",
    "    print(path)\n",
    "else:\n",
    "    walk(path)"
   ]
  },
  {
   "cell_type": "code",
   "execution_count": null,
   "metadata": {},
   "outputs": [],
   "source": []
  }
 ],
 "metadata": {
  "kernelspec": {
   "display_name": "Python 3",
   "language": "python",
   "name": "python3"
  },
  "language_info": {
   "codemirror_mode": {
    "name": "ipython",
    "version": 3
   },
   "file_extension": ".py",
   "mimetype": "text/x-python",
   "name": "python",
   "nbconvert_exporter": "python",
   "pygments_lexer": "ipython3",
   "version": "3.8.3"
  }
 },
 "nbformat": 4,
 "nbformat_minor": 4
}
