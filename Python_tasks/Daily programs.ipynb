{
 "cells": [
  {
   "cell_type": "markdown",
   "metadata": {},
   "source": [
    "##  1. Write a Python class to reverse a string word by word"
   ]
  },
  {
   "cell_type": "code",
   "execution_count": 4,
   "metadata": {},
   "outputs": [
    {
     "name": "stdout",
     "output_type": "stream",
     "text": [
      "python to Welcome\n"
     ]
    }
   ],
   "source": [
    "class Reverse:\n",
    "    def reverse_word(self, str):\n",
    "        return ' '.join(reversed(str.split()))\n",
    "    \n",
    "print(Reverse().reverse_word('Welcome to python'))"
   ]
  },
  {
   "cell_type": "markdown",
   "metadata": {},
   "source": [
    "## 2.  Python program for finding remainder of array multiplication divided by n ? \n",
    "### find the remainder of arr[0]*arr[1]......arr[n-1]"
   ]
  },
  {
   "cell_type": "code",
   "execution_count": 8,
   "metadata": {},
   "outputs": [
    {
     "name": "stdout",
     "output_type": "stream",
     "text": [
      "8\n"
     ]
    }
   ],
   "source": [
    "def findremainder(arr, lens , n):\n",
    "    mul = 1\n",
    "    #find the individual remainder nd multiple with mul\n",
    "    for i in arr:\n",
    "        mul= mul*(i%n)\n",
    "    return mul%n\n",
    "\n",
    "#driven code\n",
    "arr =[ 100,5,35,25,15,14]\n",
    "lens = len(arr)\n",
    "n = 11\n",
    "\n",
    "print(findremainder(arr,lens,n))"
   ]
  },
  {
   "cell_type": "markdown",
   "metadata": {},
   "source": [
    "## 3. Write  script to print the current date on the following format : Day Month Date Hours:mins:sec IST Year"
   ]
  },
  {
   "cell_type": "code",
   "execution_count": 12,
   "metadata": {},
   "outputs": [
    {
     "name": "stdout",
     "output_type": "stream",
     "text": [
      "Sunday August 29 08:26:20 India Standard Time 2021\n"
     ]
    }
   ],
   "source": [
    "import time\n",
    "ltime = time.localtime()\n",
    "print(time.strftime(\"%A %B %d %H:%M:%S %Z %Y\", ltime))"
   ]
  },
  {
   "cell_type": "markdown",
   "metadata": {},
   "source": [
    "## 4. WAP to construct the following pattern\n"
   ]
  },
  {
   "cell_type": "code",
   "execution_count": 16,
   "metadata": {},
   "outputs": [
    {
     "name": "stdout",
     "output_type": "stream",
     "text": [
      " enter number of starts 5\n",
      "\n",
      "*\n",
      "**\n",
      "***\n",
      "****\n",
      "*****\n",
      "****\n",
      "***\n",
      "**\n",
      "*\n"
     ]
    }
   ],
   "source": [
    "n = int(input ( \" enter number of starts \"))\n",
    "for i in range(n):\n",
    "    for j in range(i):\n",
    "        print(\"*\",end='')\n",
    "    print()\n",
    "for i in range(n,0,-1):\n",
    "    for j in range(i):\n",
    "        print(\"*\",end='')\n",
    "    print()"
   ]
  },
  {
   "cell_type": "markdown",
   "metadata": {},
   "source": [
    "## 5. WAP to print prime numbers below n "
   ]
  },
  {
   "cell_type": "code",
   "execution_count": 18,
   "metadata": {},
   "outputs": [
    {
     "name": "stdout",
     "output_type": "stream",
     "text": [
      "enter lower range ; 10\n",
      " enter upper raneg: 50\n",
      "11\n",
      "13\n",
      "17\n",
      "19\n",
      "23\n",
      "29\n",
      "31\n",
      "37\n",
      "41\n",
      "43\n",
      "47\n"
     ]
    }
   ],
   "source": [
    "lower = int(input(\"enter lower range ; \"))\n",
    "upper = int(input(\" enter upper raneg: \"))\n",
    "for num in range(lower , upper+1):\n",
    "    if num>1:\n",
    "        for i in range(2 , num):\n",
    "            if (num%i)== 0:\n",
    "                break\n",
    "        else:\n",
    "            print(num)"
   ]
  },
  {
   "cell_type": "markdown",
   "metadata": {},
   "source": [
    "## 6. Largest of three numbers"
   ]
  },
  {
   "cell_type": "code",
   "execution_count": 1,
   "metadata": {},
   "outputs": [
    {
     "name": "stdout",
     "output_type": "stream",
     "text": [
      "enter 1st number : 54\n",
      "enter 2nd number : 51\n",
      "enter 3rd number : 26\n",
      "largest =  54.0\n"
     ]
    }
   ],
   "source": [
    "num1 = float(input(\"enter 1st number : \"))\n",
    "num2 = float(input(\"enter 2nd number : \"))\n",
    "num3 = float(input(\"enter 3rd number : \"))\n",
    "\n",
    "if num1>num2 and num1>num3:\n",
    "    print(\"largest = \" , num1)\n",
    "elif num2>num1 and num2>num3:\n",
    "    print(\"largest = \", num2)\n",
    "else : \n",
    "    print(\"largest = \" , num3)\n",
    "    \n",
    "    "
   ]
  },
  {
   "cell_type": "markdown",
   "metadata": {},
   "source": [
    "## 7. WAp to convert  tempearture to celcius , ferenheit (formula :  c= (f-32)*5/9  )"
   ]
  },
  {
   "cell_type": "code",
   "execution_count": 2,
   "metadata": {},
   "outputs": [
    {
     "name": "stdout",
     "output_type": "stream",
     "text": [
      "enter temperature45\n",
      " Enter unit (C for celcius and F for Forenheit ) :   f\n",
      " temp in celcius : 7.222222222222222\n"
     ]
    }
   ],
   "source": [
    "temp = int(input(\"enter temperature\"))\n",
    "\n",
    "unit = input(\" Enter unit (C for celcius and F for Forenheit ) :   \")\n",
    "\n",
    "if unit == \"C\" or unit == \"c\":\n",
    "    newtemp = 9/5*temp+32\n",
    "    print(\"temp in fereinheit : \" , newtemp)\n",
    "elif unit==\"F\" or unit==\"f\":\n",
    "    newtemp = 5/9*(temp-32)\n",
    "    print(\" temp in celcius :\", newtemp)\n",
    "else:\n",
    "    print(\" unkown unit \" , unit)"
   ]
  },
  {
   "cell_type": "markdown",
   "metadata": {},
   "source": [
    "## 8. WAP to find factorial of a number using recursion"
   ]
  },
  {
   "cell_type": "code",
   "execution_count": 7,
   "metadata": {},
   "outputs": [
    {
     "name": "stdout",
     "output_type": "stream",
     "text": [
      "enter a number : 5\n",
      "120\n"
     ]
    }
   ],
   "source": [
    "def rec_factorial(n):\n",
    "    if n==1:\n",
    "        return n \n",
    "    else:\n",
    "        return n*rec_factorial(n-1)\n",
    "    \n",
    "n = int(input(\"enter a number : \"))\n",
    "if n<0:\n",
    "    print(\"you can't find a factorial for negative numbers\")\n",
    "elif n==0:\n",
    "    print(\"Factorial of Zero is 1 \") \n",
    "else: \n",
    "    print(rec_factorial(n))\n",
    "    \n",
    "    \n",
    "    "
   ]
  },
  {
   "cell_type": "markdown",
   "metadata": {},
   "source": [
    "## Fibonacci sequence"
   ]
  },
  {
   "cell_type": "code",
   "execution_count": 8,
   "metadata": {},
   "outputs": [],
   "source": [
    "def fib(n):\n",
    "    a=0\n",
    "    b=1\n",
    "    print(a)\n",
    "    print(b)\n",
    "    for i in range(2,n+1):\n",
    "        a,b = b,a+b\n",
    "        print(b)"
   ]
  },
  {
   "cell_type": "code",
   "execution_count": 9,
   "metadata": {},
   "outputs": [
    {
     "name": "stdout",
     "output_type": "stream",
     "text": [
      "0\n",
      "1\n",
      "1\n",
      "2\n",
      "3\n",
      "5\n",
      "8\n",
      "13\n",
      "21\n",
      "34\n",
      "55\n"
     ]
    }
   ],
   "source": [
    "fib(10)"
   ]
  },
  {
   "cell_type": "code",
   "execution_count": 5,
   "metadata": {},
   "outputs": [],
   "source": [
    "def febo(n):\n",
    "    a,b=0,1\n",
    "    while b<n:\n",
    "        print(b,end=\"\")\n",
    "        a,b = b,a+b\n",
    "    print()\n",
    "\n",
    "def feb2(n):\n",
    "    result =[]\n",
    "    a,b=0,1\n",
    "    while b<n:\n",
    "        result.append(b)\n",
    "        a,b = b,a+b\n",
    "    return result"
   ]
  },
  {
   "cell_type": "code",
   "execution_count": 6,
   "metadata": {},
   "outputs": [
    {
     "data": {
      "text/plain": [
       "[1, 1, 2, 3]"
      ]
     },
     "execution_count": 6,
     "metadata": {},
     "output_type": "execute_result"
    }
   ],
   "source": [
    "feb2(5)"
   ]
  },
  {
   "cell_type": "code",
   "execution_count": 17,
   "metadata": {},
   "outputs": [],
   "source": [
    "def feb2(n):\n",
    "    result =[]\n",
    "    a,b=0,1\n",
    "    while b<n:\n",
    "        result.append(b)\n",
    "        a,b = b,a+b##  \n",
    "    return result"
   ]
  },
  {
   "cell_type": "code",
   "execution_count": 10,
   "metadata": {},
   "outputs": [
    {
     "data": {
      "text/plain": [
       "[1, 1, 2, 3, 5, 8]"
      ]
     },
     "execution_count": 10,
     "metadata": {},
     "output_type": "execute_result"
    }
   ],
   "source": [
    "feb2(10)"
   ]
  },
  {
   "cell_type": "markdown",
   "metadata": {},
   "source": [
    "## 10. WAP to find cube sum of first n natural numbers "
   ]
  },
  {
   "cell_type": "code",
   "execution_count": 16,
   "metadata": {},
   "outputs": [
    {
     "data": {
      "text/plain": [
       "225"
      ]
     },
     "execution_count": 16,
     "metadata": {},
     "output_type": "execute_result"
    }
   ],
   "source": [
    "def sumofseries(n):\n",
    "    sum=0\n",
    "    for i in range(1,n+1):\n",
    "        sum+=i*i*i\n",
    "    return sum\n",
    "sumofseries(5)"
   ]
  },
  {
   "cell_type": "markdown",
   "metadata": {},
   "source": [
    "## 11. WAP to find square sum of first n natural numbers "
   ]
  },
  {
   "cell_type": "code",
   "execution_count": 18,
   "metadata": {},
   "outputs": [
    {
     "data": {
      "text/plain": [
       "55"
      ]
     },
     "execution_count": 18,
     "metadata": {},
     "output_type": "execute_result"
    }
   ],
   "source": [
    "def sumofseries(n):\n",
    "    sum=0\n",
    "    for i in range(1,n+1):\n",
    "        sum+=i*i #sum=sum+i*i\n",
    "    return sum\n",
    "sumofseries(5)"
   ]
  },
  {
   "cell_type": "markdown",
   "metadata": {},
   "source": [
    "## 12. To check whether the given number is prime or not"
   ]
  },
  {
   "cell_type": "code",
   "execution_count": 38,
   "metadata": {},
   "outputs": [
    {
     "name": "stdout",
     "output_type": "stream",
     "text": [
      " enter the value 23\n",
      "23 is a prime numeber\n"
     ]
    }
   ],
   "source": [
    "num= int(input(\" enter the value \"))\n",
    "if num>1:\n",
    "    #iterate from 2 to n/2\n",
    "    for i in range(2 ,num//2): # if a number is divisible by any num btwn 2 to n/2, then it is not a prime\n",
    "        if (num%i)==0:\n",
    "            print(num, \" is not a prime number\")\n",
    "       \n",
    "    else:\n",
    "            print(num, \"is a prime numeber\")\n",
    "            "
   ]
  },
  {
   "cell_type": "code",
   "execution_count": 2,
   "metadata": {},
   "outputs": [
    {
     "name": "stdout",
     "output_type": "stream",
     "text": [
      "Enter a number: 23\n",
      "23 is a prime number\n"
     ]
    }
   ],
   "source": [
    "# To take input from the user\n",
    "num = int(input(\"Enter a number: \"))\n",
    "\n",
    "# define a flag variable\n",
    "flag = False\n",
    "\n",
    "# prime numbers are greater than 1\n",
    "if num > 1:\n",
    "    # check for factors\n",
    "    for i in range(2, num//2):\n",
    "        if (num % i) == 0:\n",
    "            # if factor is found, set flag to True\n",
    "            flag = True\n",
    "            # break out of loop\n",
    "            break\n",
    "\n",
    "# check if flag is True\n",
    "if flag:\n",
    "    print(num, \"is not a prime number\")\n",
    "else:\n",
    "    print(num, \"is a prime number\")"
   ]
  },
  {
   "cell_type": "markdown",
   "metadata": {},
   "source": [
    "## 11. Area of the circle\n",
    "### Area = pi * r^2"
   ]
  },
  {
   "cell_type": "code",
   "execution_count": 10,
   "metadata": {},
   "outputs": [
    {
     "name": "stdout",
     "output_type": "stream",
     "text": [
      "3.141592653589793\n"
     ]
    },
    {
     "data": {
      "text/plain": [
       "7.547676350249479"
      ]
     },
     "execution_count": 10,
     "metadata": {},
     "output_type": "execute_result"
    }
   ],
   "source": [
    "from math import * \n",
    "print(pi)\n",
    "def findarea(r):\n",
    "    return pi*(r*r)\n",
    "findarea(1.55)"
   ]
  },
  {
   "cell_type": "markdown",
   "metadata": {},
   "source": [
    "# Daily programs "
   ]
  },
  {
   "cell_type": "code",
   "execution_count": 4,
   "metadata": {},
   "outputs": [
    {
     "name": "stdout",
     "output_type": "stream",
     "text": [
      "2 6 7 1 12 "
     ]
    }
   ],
   "source": [
    "#day_1 \n",
    "# To print positive elements in the list\n",
    "\n",
    "l= [2,-5,-10,6,7,1,-45,-6,12]\n",
    "for num in l:\n",
    "    if num>=0:\n",
    "        print(num,end=' ')"
   ]
  },
  {
   "cell_type": "code",
   "execution_count": 5,
   "metadata": {},
   "outputs": [
    {
     "name": "stdout",
     "output_type": "stream",
     "text": [
      "The list after removing negative values :  [2, 6, 7, 1, 12]\n"
     ]
    }
   ],
   "source": [
    "l= [2,-5,-10,6,7,1,-45,-6,12]\n",
    "l2=[]\n",
    "for num in l:\n",
    "    if num>=0:\n",
    "        l2.append(num)\n",
    "        #print(num,end=' ')\n",
    "print(\"The list after removing negative values : \" , l2)"
   ]
  },
  {
   "cell_type": "code",
   "execution_count": 10,
   "metadata": {},
   "outputs": [
    {
     "name": "stdout",
     "output_type": "stream",
     "text": [
      "new list after removing even numbers :  [5, 10, 7, 1, 45, 12, 15, 9]\n"
     ]
    }
   ],
   "source": [
    "# Day 2\n",
    "# Remove even numbers from the list \n",
    "l= [2,5,6,10,7,1,45,36,12,15,9,6]\n",
    "\n",
    "for num in l:\n",
    "    if num%2==0:\n",
    "        l.remove(num)\n",
    "        \n",
    "print(\"new list after removing even numbers : \", l)"
   ]
  },
  {
   "cell_type": "code",
   "execution_count": 11,
   "metadata": {},
   "outputs": [
    {
     "name": "stdout",
     "output_type": "stream",
     "text": [
      "[4, 5, 7, 9, 6, 2, 1, 3, 15, 12, 20]\n",
      "new list :  [20, 5, 7, 9, 6, 2, 1, 3, 15, 12, 4]\n"
     ]
    }
   ],
   "source": [
    "# day 3\n",
    "# to interchange first and last element in the list\n",
    "\n",
    "lst = [4,5,7,9,6,2,1,3,15,12,20] \n",
    "print(lst)\n",
    "size = len(lst)\n",
    "temp = lst[0]\n",
    "lst[0]=lst[size-1]\n",
    "lst[size-1]=temp\n",
    "\n",
    "print(\"new list : \" , lst)"
   ]
  },
  {
   "cell_type": "code",
   "execution_count": 14,
   "metadata": {},
   "outputs": [
    {
     "name": "stdout",
     "output_type": "stream",
     "text": [
      "new list [20, 5, 7, 9, 6, 2, 1, 3, 15, 12, 4]\n"
     ]
    }
   ],
   "source": [
    "# using function concept (swap_function) \n",
    "def swap_function(x):\n",
    "    size = len(x)\n",
    "    temp = x[0]\n",
    "    x[0]=x[size-1]\n",
    "    x[size-1]=temp\n",
    "    return x\n",
    "lst = [4,5,7,9,6,2,1,3,15,12,20] \n",
    "print(\"new list\" , swap_function(lst))\n",
    "\n",
    "    "
   ]
  },
  {
   "cell_type": "code",
   "execution_count": 21,
   "metadata": {},
   "outputs": [
    {
     "name": "stdout",
     "output_type": "stream",
     "text": [
      "enter the str   : madam\n",
      "True\n"
     ]
    }
   ],
   "source": [
    "# day 4 \n",
    "# To check palindrome or Not\n",
    "\n",
    "def isPalindrome(s):\n",
    "    return s==s[::-1]\n",
    "s=input(\"enter the str   : \")\n",
    "ans = isPalindrome(s)\n",
    "if ans:\n",
    "    print(\"True\")\n",
    "else:\n",
    "    print(\"False\")"
   ]
  },
  {
   "cell_type": "code",
   "execution_count": 3,
   "metadata": {},
   "outputs": [
    {
     "name": "stdout",
     "output_type": "stream",
     "text": [
      "enter the number to check : 123454321\n",
      "Palindrome\n"
     ]
    }
   ],
   "source": [
    "num = int(input(\"enter the number to check : \"))\n",
    "num=temp\n",
    "res = 0\n",
    "while temp>0:\n",
    "    rem = temp%10\n",
    "    res = (res*10)+rem\n",
    "    temp=temp//10\n",
    "if res==num:\n",
    "    print(\"Palindrome\")\n",
    "else:\n",
    "    print(\"Not a Palindrome\")\n"
   ]
  },
  {
   "cell_type": "code",
   "execution_count": 33,
   "metadata": {},
   "outputs": [
    {
     "name": "stdout",
     "output_type": "stream",
     "text": [
      "Enter the Number:5\n",
      "Sum of N natural numbers: 15\n"
     ]
    }
   ],
   "source": [
    "#day 5 \n",
    "# sum of first n natural numbers\n",
    "num = int(input(\"Enter the Number:\"))\n",
    "value = 0\n",
    "for i in range(1, num+1):\n",
    "    value = value + i\n",
    "\n",
    "print(\"Sum of N natural numbers:\", value)\n"
   ]
  },
  {
   "cell_type": "code",
   "execution_count": 34,
   "metadata": {},
   "outputs": [
    {
     "name": "stdout",
     "output_type": "stream",
     "text": [
      "Enter the Number:5\n",
      "The Sum of N natural Number is 15.0\n"
     ]
    }
   ],
   "source": [
    "#Method 2\n",
    "\n",
    "num = int(input(\"Enter the Number:\"))\n",
    "sum = (num * (num+1))/2\n",
    "print(\"The Sum of N natural Number is {}\".format(sum))"
   ]
  },
  {
   "cell_type": "code",
   "execution_count": 37,
   "metadata": {},
   "outputs": [
    {
     "name": "stdout",
     "output_type": "stream",
     "text": [
      "enter the year : 2200\n",
      "2200 is not a leap year\n"
     ]
    }
   ],
   "source": [
    "#day 6\n",
    "#leap year or not\n",
    "year = int(input(\"enter the year : \"))\n",
    "\n",
    "if year%4==0:\n",
    "    if year%100==0:\n",
    "        if year%400==0:\n",
    "            print(\"{} is leap year\".format(year))\n",
    "        else:\n",
    "            print(\"{} is not a leap year\".format(year))\n",
    "    else:\n",
    "        print(\"{} is leap year\".format(year))\n",
    "else:\n",
    "    print(\"{} is not a leap year\".format(year))"
   ]
  },
  {
   "cell_type": "code",
   "execution_count": 5,
   "metadata": {},
   "outputs": [
    {
     "name": "stdout",
     "output_type": "stream",
     "text": [
      "4\n",
      "2 3 "
     ]
    }
   ],
   "source": [
    "#day 7 \n",
    "# prime numbers within the range\n",
    "# lower= int(input(\"enter the lower number :  \"))\n",
    "# upper= int(input(\"enter the upper number :  \"))\n",
    "val=int(input())\n",
    "for num in range(2,val+1):\n",
    "    for i in range(2,num):\n",
    "        if num%i==0:\n",
    "            break\n",
    "    else:\n",
    "        print(num,end=\" \")"
   ]
  },
  {
   "cell_type": "code",
   "execution_count": 46,
   "metadata": {},
   "outputs": [
    {
     "name": "stdout",
     "output_type": "stream",
     "text": [
      "enter a number : 123456\n",
      "the sum of digits is 21 \n"
     ]
    }
   ],
   "source": [
    "#day 8\n",
    "#sum of digits in a number\n",
    "num = [int(d) for d in input(\"enter a number : \")]\n",
    "sum=0\n",
    "for i in range(0,len(num)):\n",
    "    sum=sum+num[i]\n",
    "print(\"the sum of digits is {} \".format(sum))\n",
    "#print(sum)"
   ]
  },
  {
   "cell_type": "code",
   "execution_count": 1,
   "metadata": {},
   "outputs": [
    {
     "name": "stdout",
     "output_type": "stream",
     "text": [
      "enter the number : 12345\n",
      "The given number is 12345 and the reverse is 54321\n"
     ]
    }
   ],
   "source": [
    "#day9\n",
    "#program to print a given number in reverse order \n",
    "num = int(input(\"enter the number : \"))\n",
    "temp=num\n",
    "rev=0\n",
    "while num>0:\n",
    "    rem=num%10\n",
    "    rev=(rev*10)+rem\n",
    "    num=num//10\n",
    "    \n",
    "print(\"The given number is {} and the reverse is {}\".format(temp,rev))"
   ]
  },
  {
   "cell_type": "code",
   "execution_count": 50,
   "metadata": {},
   "outputs": [
    {
     "name": "stdout",
     "output_type": "stream",
     "text": [
      "enter the valuen: 5\n",
      " the factorial of 5 is 120\n"
     ]
    }
   ],
   "source": [
    "#day10\n",
    "#factorial\n",
    "num= int(input(\"enter the valuen: \"))\n",
    "def factorial(n):\n",
    "    return 1 if (n==0 or n==1) else n*factorial(n-1)\n",
    "\n",
    "print(\" the factorial of {} is {}\".format(num,factorial(num)))"
   ]
  },
  {
   "cell_type": "code",
   "execution_count": 52,
   "metadata": {},
   "outputs": [
    {
     "name": "stdout",
     "output_type": "stream",
     "text": [
      "enter the value : 0\n",
      " the factorial of 0 is 1\n"
     ]
    }
   ],
   "source": [
    "num= int(input(\"enter the value : \"))\n",
    "\n",
    "def factorial(n):\n",
    "    if n==0 or n==1:\n",
    "        return 1\n",
    "    else:\n",
    "        return n*factorial(n-1)\n",
    "\n",
    "print(\" the factorial of {} is {}\".format(num,factorial(num)))"
   ]
  },
  {
   "cell_type": "code",
   "execution_count": 9,
   "metadata": {},
   "outputs": [
    {
     "name": "stdout",
     "output_type": "stream",
     "text": [
      "5\n"
     ]
    }
   ],
   "source": [
    "#day_11\n",
    "#Program to find nTH number in fibonocci series\n",
    "\n",
    "def Fibonacci(n):\n",
    "    if n<0:\n",
    "        print(\"Incorrect input\")\n",
    "    elif n==0:\n",
    "        return 0\n",
    "    elif n==1 or n==2:\n",
    "        return 1\n",
    "    else:\n",
    "        return Fibonacci(n-1)+Fibonacci(n-2)\n",
    "    \n",
    "print(Fibonacci(5))\n",
    "        \n",
    "    "
   ]
  },
  {
   "cell_type": "code",
   "execution_count": 60,
   "metadata": {},
   "outputs": [
    {
     "name": "stdout",
     "output_type": "stream",
     "text": [
      "0\n",
      "1\n",
      "1\n",
      "2\n",
      "3\n",
      "5\n",
      "8\n",
      "13\n",
      "21\n",
      "34\n"
     ]
    }
   ],
   "source": [
    "#Day_12\n",
    "#Fibonocci series\n",
    "def fib(n):\n",
    "    a=0\n",
    "    b=1\n",
    "    print(a)\n",
    "    print(b)\n",
    "    for i in range(2,n+1):\n",
    "        a,b = b,a+b\n",
    "        print(b)\n",
    "        \n",
    "fib(9)"
   ]
  },
  {
   "cell_type": "code",
   "execution_count": 2,
   "metadata": {},
   "outputs": [
    {
     "data": {
      "text/plain": [
       "12"
      ]
     },
     "execution_count": 2,
     "metadata": {},
     "output_type": "execute_result"
    }
   ],
   "source": [
    "#Day_12\n",
    "# GCd to two numbers \n",
    "\n",
    "def findGCD(num1,num2,i):\n",
    "    while i<=num1 or i<=num2:\n",
    "        if num1%i==0 and num2%i==0:\n",
    "            gcd=i\n",
    "        i+=1\n",
    "    return gcd\n",
    "\n",
    "findGCD(60,48,1)\n"
   ]
  },
  {
   "cell_type": "code",
   "execution_count": 1,
   "metadata": {},
   "outputs": [
    {
     "name": "stdout",
     "output_type": "stream",
     "text": [
      "The gcd of 60 and 48 is : 12\n"
     ]
    }
   ],
   "source": [
    "# Python code to demonstrate the working of gcd()\n",
    "# importing \"math\" for mathematical operations\n",
    "import math\n",
    "  \n",
    "# prints 12\n",
    "print(\"The gcd of 60 and 48 is : \", end=\"\")\n",
    "print(math.gcd(60, 48))"
   ]
  },
  {
   "cell_type": "code",
   "execution_count": 1,
   "metadata": {},
   "outputs": [
    {
     "name": "stdout",
     "output_type": "stream",
     "text": [
      "The H.C.F. is 6\n"
     ]
    }
   ],
   "source": [
    "# Python program to find H.C.F of two numbers\n",
    "\n",
    "# define a function\n",
    "def compute_hcf(x, y):\n",
    "\n",
    "# choose the smaller number\n",
    "    if x > y:\n",
    "        smaller = y\n",
    "    else:\n",
    "        smaller = x\n",
    "    for i in range(1, smaller+1):\n",
    "        if((x % i == 0) and (y % i == 0)):\n",
    "            hcf = i \n",
    "    return hcf\n",
    "\n",
    "num1 = 54 \n",
    "num2 = 24\n",
    "\n",
    "print(\"The H.C.F. is\", compute_hcf(num1, num2))"
   ]
  },
  {
   "cell_type": "code",
   "execution_count": 3,
   "metadata": {},
   "outputs": [
    {
     "name": "stdout",
     "output_type": "stream",
     "text": [
      "1634 is an Armstrong number\n"
     ]
    }
   ],
   "source": [
    "#day_13\n",
    "#ARMSTRONG, 153,1634\n",
    "#1³+5³+3³ = 1 + 125 + 27= 153 which is equal to the given number.. so 153 is Armstrong number...\n",
    "num = 1634\n",
    "\n",
    "# Changed num variable to string,\n",
    "# and calculated the length (number of digits)\n",
    "order = len(str(num))\n",
    "# so the value of order is 4\n",
    "\n",
    "# initialize sum\n",
    "sum = 0\n",
    "\n",
    "temp = num\n",
    "while temp > 0:\n",
    "    digit = temp % 10\n",
    "    sum += digit ** order\n",
    "    temp //= 10\n",
    "\n",
    "# display the result\n",
    "if num == sum:\n",
    "    print(num,\"is an Armstrong number\")\n",
    "else:\n",
    "    print(num,\"is not an Armstrong number\")\n",
    "\n"
   ]
  },
  {
   "cell_type": "code",
   "execution_count": 4,
   "metadata": {},
   "outputs": [
    {
     "name": "stdout",
     "output_type": "stream",
     "text": [
      "Input a number\n",
      "145\n",
      "True\n"
     ]
    }
   ],
   "source": [
    "#day_14\n",
    "#Strong or not\n",
    "#A Strong number is one that is equal to the sum of the factorial of its digits.\n",
    "\n",
    "def factorial(d):\n",
    "    if(d==1 or d==0):\n",
    "        return 1\n",
    "    else:\n",
    "        return d*factorial(d-1)\n",
    "def isStrong(n):\n",
    "    num=n\n",
    "    sm=0\n",
    "    while(n>0):\n",
    "        digit=n%10\n",
    "        sm=sm+factorial(digit)\n",
    "        n=n//10\n",
    "    if(sm==num):\n",
    "        return True\n",
    "    else:\n",
    "        return False\n",
    "print(\"Input a number\")\n",
    "a=int(input())\n",
    "print(isStrong(a))"
   ]
  },
  {
   "cell_type": "code",
   "execution_count": 5,
   "metadata": {},
   "outputs": [
    {
     "name": "stdout",
     "output_type": "stream",
     "text": [
      " enter the number : 6\n",
      "perfect number\n"
     ]
    }
   ],
   "source": [
    "#day_15\n",
    "#If the Sum of the perfect divisors (except the number itself) is equal to the given number then it is called perfect number\n",
    "# perfect or not\n",
    "\n",
    "num=int(input(\" enter the number : \"))\n",
    "sum1=0\n",
    "\n",
    "for i in range(1,num):\n",
    "    if num%i==0:\n",
    "        sum1=sum1+i\n",
    "\n",
    "if (sum1==num):\n",
    "    print(\"perfect number\")\n",
    "else: \n",
    "    print(\"not a perfect number\")\n"
   ]
  },
  {
   "cell_type": "code",
   "execution_count": 6,
   "metadata": {},
   "outputs": [
    {
     "name": "stdout",
     "output_type": "stream",
     "text": [
      " enter the number : 496\n",
      "perfect number\n"
     ]
    }
   ],
   "source": [
    "# Using a while loop check if a number is a perfect number\n",
    "num=int(input(\" enter the number : \"))\n",
    "sum=0\n",
    "i=1\n",
    "while i<num:\n",
    "    if num%i==0:\n",
    "        sum+=i\n",
    "    i+=1\n",
    "if (sum==num):\n",
    "    print(\"perfect number\")\n",
    "else: \n",
    "    print(\"not a perfect number\")\n",
    "\n"
   ]
  },
  {
   "cell_type": "code",
   "execution_count": 7,
   "metadata": {},
   "outputs": [
    {
     "name": "stdout",
     "output_type": "stream",
     "text": [
      "enter the values1 2 3 4 5 \n"
     ]
    },
    {
     "ename": "ValueError",
     "evalue": "invalid literal for int() with base 10: ''",
     "output_type": "error",
     "traceback": [
      "\u001b[1;31m---------------------------------------------------------------------------\u001b[0m",
      "\u001b[1;31mValueError\u001b[0m                                Traceback (most recent call last)",
      "\u001b[1;32m<ipython-input-7-622b5630fc63>\u001b[0m in \u001b[0;36m<module>\u001b[1;34m\u001b[0m\n\u001b[1;32m----> 1\u001b[1;33m \u001b[0ml\u001b[0m\u001b[1;33m=\u001b[0m \u001b[1;33m[\u001b[0m\u001b[0mint\u001b[0m\u001b[1;33m(\u001b[0m\u001b[0md\u001b[0m\u001b[1;33m)\u001b[0m \u001b[1;32mfor\u001b[0m \u001b[0md\u001b[0m \u001b[1;32min\u001b[0m \u001b[0minput\u001b[0m\u001b[1;33m(\u001b[0m\u001b[1;34m\"enter the values\"\u001b[0m\u001b[1;33m)\u001b[0m\u001b[1;33m.\u001b[0m\u001b[0msplit\u001b[0m\u001b[1;33m(\u001b[0m\u001b[1;34m\" \"\u001b[0m\u001b[1;33m)\u001b[0m\u001b[1;33m]\u001b[0m\u001b[1;33m\u001b[0m\u001b[1;33m\u001b[0m\u001b[0m\n\u001b[0m\u001b[0;32m      2\u001b[0m \u001b[0msum\u001b[0m\u001b[1;33m=\u001b[0m\u001b[1;36m0\u001b[0m\u001b[1;33m\u001b[0m\u001b[1;33m\u001b[0m\u001b[0m\n\u001b[0;32m      3\u001b[0m \u001b[1;32mfor\u001b[0m \u001b[0mnum\u001b[0m \u001b[1;32min\u001b[0m \u001b[0ml\u001b[0m\u001b[1;33m:\u001b[0m\u001b[1;33m\u001b[0m\u001b[1;33m\u001b[0m\u001b[0m\n\u001b[0;32m      4\u001b[0m     \u001b[1;32mif\u001b[0m \u001b[0mnum\u001b[0m\u001b[1;33m>=\u001b[0m\u001b[1;36m0\u001b[0m\u001b[1;33m:\u001b[0m\u001b[1;33m\u001b[0m\u001b[1;33m\u001b[0m\u001b[0m\n\u001b[0;32m      5\u001b[0m         \u001b[0msum\u001b[0m\u001b[1;33m=\u001b[0m\u001b[0msum\u001b[0m\u001b[1;33m+\u001b[0m\u001b[0mnum\u001b[0m\u001b[1;33m\u001b[0m\u001b[1;33m\u001b[0m\u001b[0m\n",
      "\u001b[1;32m<ipython-input-7-622b5630fc63>\u001b[0m in \u001b[0;36m<listcomp>\u001b[1;34m(.0)\u001b[0m\n\u001b[1;32m----> 1\u001b[1;33m \u001b[0ml\u001b[0m\u001b[1;33m=\u001b[0m \u001b[1;33m[\u001b[0m\u001b[0mint\u001b[0m\u001b[1;33m(\u001b[0m\u001b[0md\u001b[0m\u001b[1;33m)\u001b[0m \u001b[1;32mfor\u001b[0m \u001b[0md\u001b[0m \u001b[1;32min\u001b[0m \u001b[0minput\u001b[0m\u001b[1;33m(\u001b[0m\u001b[1;34m\"enter the values\"\u001b[0m\u001b[1;33m)\u001b[0m\u001b[1;33m.\u001b[0m\u001b[0msplit\u001b[0m\u001b[1;33m(\u001b[0m\u001b[1;34m\" \"\u001b[0m\u001b[1;33m)\u001b[0m\u001b[1;33m]\u001b[0m\u001b[1;33m\u001b[0m\u001b[1;33m\u001b[0m\u001b[0m\n\u001b[0m\u001b[0;32m      2\u001b[0m \u001b[0msum\u001b[0m\u001b[1;33m=\u001b[0m\u001b[1;36m0\u001b[0m\u001b[1;33m\u001b[0m\u001b[1;33m\u001b[0m\u001b[0m\n\u001b[0;32m      3\u001b[0m \u001b[1;32mfor\u001b[0m \u001b[0mnum\u001b[0m \u001b[1;32min\u001b[0m \u001b[0ml\u001b[0m\u001b[1;33m:\u001b[0m\u001b[1;33m\u001b[0m\u001b[1;33m\u001b[0m\u001b[0m\n\u001b[0;32m      4\u001b[0m     \u001b[1;32mif\u001b[0m \u001b[0mnum\u001b[0m\u001b[1;33m>=\u001b[0m\u001b[1;36m0\u001b[0m\u001b[1;33m:\u001b[0m\u001b[1;33m\u001b[0m\u001b[1;33m\u001b[0m\u001b[0m\n\u001b[0;32m      5\u001b[0m         \u001b[0msum\u001b[0m\u001b[1;33m=\u001b[0m\u001b[0msum\u001b[0m\u001b[1;33m+\u001b[0m\u001b[0mnum\u001b[0m\u001b[1;33m\u001b[0m\u001b[1;33m\u001b[0m\u001b[0m\n",
      "\u001b[1;31mValueError\u001b[0m: invalid literal for int() with base 10: ''"
     ]
    }
   ],
   "source": [
    "l= [int(d) for d in input(\"enter the values\").split(\" \")]\n",
    "sum=0\n",
    "for num in l:\n",
    "    if num>=0:\n",
    "        sum=sum+num\n",
    "print(l)       \n",
    "print(sum)"
   ]
  },
  {
   "cell_type": "code",
   "execution_count": 4,
   "metadata": {},
   "outputs": [
    {
     "name": "stdout",
     "output_type": "stream",
     "text": [
      "enter the values2 -9 6 -8 -2 1 2 3\n",
      "5\n"
     ]
    }
   ],
   "source": [
    "l= [int(d) for d in input(\"enter the values\").split(\" \")]\n",
    "sum = 0\n",
    "for i in l:\n",
    "    if i>=0:\n",
    "        sum = sum+1\n",
    "print(sum)\n",
    "    "
   ]
  },
  {
   "cell_type": "code",
   "execution_count": null,
   "metadata": {},
   "outputs": [],
   "source": []
  },
  {
   "cell_type": "code",
   "execution_count": null,
   "metadata": {},
   "outputs": [],
   "source": []
  }
 ],
 "metadata": {
  "kernelspec": {
   "display_name": "Python 3",
   "language": "python",
   "name": "python3"
  },
  "language_info": {
   "codemirror_mode": {
    "name": "ipython",
    "version": 3
   },
   "file_extension": ".py",
   "mimetype": "text/x-python",
   "name": "python",
   "nbconvert_exporter": "python",
   "pygments_lexer": "ipython3",
   "version": "3.8.3"
  }
 },
 "nbformat": 4,
 "nbformat_minor": 4
}
