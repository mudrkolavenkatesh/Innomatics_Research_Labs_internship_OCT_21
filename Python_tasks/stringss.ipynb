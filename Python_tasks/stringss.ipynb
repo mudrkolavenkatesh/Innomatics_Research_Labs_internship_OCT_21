{
 "cells": [
  {
   "cell_type": "code",
   "execution_count": 2,
   "metadata": {},
   "outputs": [
    {
     "name": "stdout",
     "output_type": "stream",
     "text": [
      "hello babiee\n"
     ]
    }
   ],
   "source": [
    "fp_to_read = open(\"file_1.txt\", \"r\")\n",
    "l = fp_to_read.read(1)\n",
    "str = l\n",
    "while l != '':\n",
    "    l = fp_to_read.read(1)\n",
    "    str = str + l\n",
    "print(str)\n",
    "fp_to_read.close()"
   ]
  },
  {
   "cell_type": "code",
   "execution_count": 3,
   "metadata": {},
   "outputs": [
    {
     "name": "stdout",
     "output_type": "stream",
     "text": [
      "hi beauty\n"
     ]
    }
   ],
   "source": [
    "fp_to_read = open(\"file_one.txt\", \"r\")\n",
    "l = fp_to_read.read(1)\n",
    "str = l\n",
    "while l != '':\n",
    "    l = fp_to_read.readline()\n",
    "    str = str + l\n",
    "print(str)\n",
    "fp_to_read.close()"
   ]
  },
  {
   "cell_type": "code",
   "execution_count": 4,
   "metadata": {},
   "outputs": [
    {
     "name": "stdout",
     "output_type": "stream",
     "text": [
      "hi beauty\n"
     ]
    }
   ],
   "source": [
    "fp_to_read = open(\"file_one.txt\", \"r\")\n",
    "fp_to_write = open(\"file_two.txt\", \"w\")\n",
    "l = fp_to_read.read(1)\n",
    "while l != '':\n",
    "    fp_to_write.write(l)\n",
    "    l = fp_to_read.read(1)\n",
    "fp_to_read.close()\n",
    "fp_to_write.close()\n",
    "fp_to_read = open(\"file_two.txt\", \"r\")\n",
    "l = fp_to_read.read(1)\n",
    "str = l\n",
    "while l != '':\n",
    "    l = fp_to_read.read(1)\n",
    "    str = str + l\n",
    "print(str)"
   ]
  },
  {
   "cell_type": "code",
   "execution_count": 5,
   "metadata": {},
   "outputs": [],
   "source": [
    "fp_to_read.close( )"
   ]
  },
  {
   "cell_type": "code",
   "execution_count": 6,
   "metadata": {},
   "outputs": [
    {
     "name": "stdout",
     "output_type": "stream",
     "text": [
      "hi beauty\n",
      "hello \n",
      "how are you ?\n"
     ]
    }
   ],
   "source": [
    "fp_to_read = open(\"file_one.txt\", \"r\")\n",
    "fp_to_write = open(\"file_two.txt\", \"w\")\n",
    "l = fp_to_read.read(1)\n",
    "while l != '':\n",
    "    fp_to_write.write(l)\n",
    "    l = fp_to_read.readline()\n",
    "fp_to_read.close()\n",
    "fp_to_write.close()\n",
    "fp_to_read = open(\"file_two.txt\", \"r\")\n",
    "l = fp_to_read.readline()\n",
    "str = l\n",
    "while l != '':\n",
    "    l = fp_to_read.readline()\n",
    "    str = str + l\n",
    "print(str)\n",
    "fp_to_read.close()"
   ]
  },
  {
   "cell_type": "code",
   "execution_count": 7,
   "metadata": {},
   "outputs": [
    {
     "name": "stdout",
     "output_type": "stream",
     "text": [
      "hi beauty\n",
      "\n",
      "hello \n",
      "\n",
      "how are you ?\n"
     ]
    }
   ],
   "source": [
    "fp_to_read = open(\"file_one.txt\", \"r\")\n",
    "for line in fp_to_read:\n",
    "    print(line)\n",
    "fp_to_read.close()"
   ]
  },
  {
   "cell_type": "code",
   "execution_count": null,
   "metadata": {},
   "outputs": [],
   "source": [
    "fp_one = open(\"file_one.txt\", \"r\")\n",
    "line = ''\n",
    "line = fp_one.readlines()\n",
    "space = 0\n",
    "while line != '':\n",
    "    for i in range(0,len(line)):\n",
    "        if( line[i] == ' ' ):\n",
    "            space = space + 1\n",
    "    line = fp_one.readlines()\n",
    "print( \"Spaces = \", space )"
   ]
  },
  {
   "cell_type": "code",
   "execution_count": null,
   "metadata": {},
   "outputs": [],
   "source": [
    "space = 0\n",
    "while line != '':\n",
    "    for i in range(0,len(line)):\n",
    "        if( line[i] == ' ' ):\n",
    "            space = space + 1\n",
    "    line = fp_one.readline()\n",
    "print( \"Spaces = \", space )"
   ]
  },
  {
   "cell_type": "code",
   "execution_count": null,
   "metadata": {},
   "outputs": [],
   "source": [
    "print(line)"
   ]
  },
  {
   "cell_type": "code",
   "execution_count": 8,
   "metadata": {},
   "outputs": [],
   "source": [
    "fp_to_read=open(\"file_one.txt\", \"r\")\n",
    "fp_to_write=open(\"remove_e.txt\",\"w\")\n",
    "l = fp_to_read.read(1)\n",
    "while l != '':\n",
    "    if l=='e':\n",
    "        pass\n",
    "    fp_to_write.write(l)\n",
    "    l = fp_to_read.read()\n",
    "fp_to_read.close()\n",
    "fp_to_write.close()\n",
    "fp_to_read = open(\"remove.txt\", \"r\")\n",
    "l = fp_to_read.readline()\n",
    "str = l\n",
    "while l != '':\n",
    "    l = fp_to_read.readline()\n",
    "    str = str + l\n",
    "print(str)\n",
    "fp_to_read.close()"
   ]
  },
  {
   "cell_type": "code",
   "execution_count": 3,
   "metadata": {},
   "outputs": [],
   "source": [
    "#9\n",
    "pic=open(\"IMG-20191109-WA0008.jpg\",\"rb\")\n",
    "copy=open(\"Varshaimage.jpg\",\"wb\")\n",
    "for i in pic:\n",
    "    copy.write(i)"
   ]
  },
  {
   "cell_type": "code",
   "execution_count": 10,
   "metadata": {},
   "outputs": [
    {
     "name": "stdout",
     "output_type": "stream",
     "text": [
      "enter a string : venkat\n",
      "taknev\n"
     ]
    }
   ],
   "source": [
    "s= input(\"enter a string : \")\n",
    "print(s[::-1])"
   ]
  },
  {
   "cell_type": "code",
   "execution_count": 1,
   "metadata": {},
   "outputs": [
    {
     "name": "stdout",
     "output_type": "stream",
     "text": [
      "enter a string : venkat\n",
      "<reversed object at 0x0000025848B8E550>\n",
      "taknev\n"
     ]
    }
   ],
   "source": [
    "s= input(\"enter a string : \")\n",
    "print(''.join(reversed(s)))"
   ]
  },
  {
   "cell_type": "code",
   "execution_count": 25,
   "metadata": {},
   "outputs": [
    {
     "name": "stdout",
     "output_type": "stream",
     "text": [
      "enter a string : venkat\n",
      "taknev\n"
     ]
    }
   ],
   "source": [
    "s= input(\"enter a string : \")\n",
    "i = len(s)-1\n",
    "target=''\n",
    "while i>=0:\n",
    "    target=target+s[i]\n",
    "    i=i-1\n",
    "print(target)"
   ]
  },
  {
   "cell_type": "code",
   "execution_count": 1,
   "metadata": {},
   "outputs": [
    {
     "name": "stdout",
     "output_type": "stream",
     "text": [
      "enter a string : venkat\n"
     ]
    },
    {
     "data": {
      "text/plain": [
       "'taknev'"
      ]
     },
     "execution_count": 1,
     "metadata": {},
     "output_type": "execute_result"
    }
   ],
   "source": [
    "s= input(\"enter a string : \")\n",
    "s[::-1]"
   ]
  },
  {
   "cell_type": "code",
   "execution_count": 30,
   "metadata": {},
   "outputs": [
    {
     "name": "stdout",
     "output_type": "stream",
     "text": [
      "enter a string : venkat loves india\n",
      "['india', 'loves', 'venkat']\n",
      "india loves venkat\n"
     ]
    }
   ],
   "source": [
    "#4\n",
    "s= input(\"enter a string : \")\n",
    "l=s.split()\n",
    "l1=[]\n",
    "i=len(l)-1\n",
    "while i>=0:\n",
    "    l1.append(l[i])\n",
    "    i=i-1\n",
    "print(l1)    \n",
    "output=' '.join(l1)\n",
    "print(output)"
   ]
  },
  {
   "cell_type": "code",
   "execution_count": 32,
   "metadata": {},
   "outputs": [
    {
     "name": "stdout",
     "output_type": "stream",
     "text": [
      "venkat loves  coding\n"
     ]
    }
   ],
   "source": [
    "l=['venkat','loves ','coding']\n",
    "l1=' '.join(l)\n",
    "print(l1)"
   ]
  },
  {
   "cell_type": "code",
   "execution_count": 33,
   "metadata": {},
   "outputs": [
    {
     "name": "stdout",
     "output_type": "stream",
     "text": [
      "enter a string : venkat loves india\n",
      "['aidni', 'sevol', 'taknev']\n",
      "aidni sevol taknev\n"
     ]
    }
   ],
   "source": [
    "s= input(\"enter a string : \")\n",
    "l=s.split()\n",
    "l1=[]\n",
    "i=len(l)-1\n",
    "while i>=0:\n",
    "    l1.append(l[i][::-1])\n",
    "    i=i-1\n",
    "print(l1)    \n",
    "output=' '.join(l1)\n",
    "print(output)"
   ]
  },
  {
   "cell_type": "code",
   "execution_count": 34,
   "metadata": {},
   "outputs": [
    {
     "name": "stdout",
     "output_type": "stream",
     "text": [
      "enter a string : venkat loves india\n",
      "aidni sevol taknev\n"
     ]
    }
   ],
   "source": [
    "s= input(\"enter a string : \")\n",
    "i = len(s)-1\n",
    "target=''\n",
    "while i>=0:\n",
    "    target=target+s[i]\n",
    "    i=i-1\n",
    "print(target)"
   ]
  },
  {
   "cell_type": "code",
   "execution_count": 4,
   "metadata": {},
   "outputs": [],
   "source": [
    "#2\n",
    "r_read= open(\"file_one.txt\",\"r\")\n",
    "w_replace=open(\"file_one_without_e\",\"w+\")\n",
    "l=r_read.readline()\n",
    "for i in l:\n",
    "    w_replace.write(l.replace(\"e\",\"\"))\n",
    "    l=r_read.readline()"
   ]
  },
  {
   "cell_type": "code",
   "execution_count": 1,
   "metadata": {},
   "outputs": [
    {
     "name": "stdout",
     "output_type": "stream",
     "text": [
      "anji is smart boy\n"
     ]
    }
   ],
   "source": [
    "#7\n",
    "str_input=input()\n",
    "new_file=open(\"new_input.txt\",\"w\")\n",
    "new_file.write(str_input)\n",
    "new_file.close()\n",
    "\n"
   ]
  },
  {
   "cell_type": "code",
   "execution_count": 2,
   "metadata": {},
   "outputs": [
    {
     "name": "stdout",
     "output_type": "stream",
     "text": [
      "Enter Some String:venkatesh\n",
      "Characters at Even Position:\n",
      "v,n,a,e,h,\n",
      "Characters at odd Position:\n",
      "e,k,t,s,\n"
     ]
    }
   ],
   "source": [
    "#Write a program to print characters at odd position and even position for the given String\n",
    "s=input(\"Enter Some String:\")\n",
    "i=0\n",
    "print(\"Characters at Even Position:\")\n",
    "while i< len(s):\n",
    "    print(s[i],end=',')\n",
    "    i=i+2\n",
    "print()\n",
    "i=1\n",
    "print(\"Characters at odd Position:\")\n",
    "while i< len(s):\n",
    "    print(s[i],end=',')\n",
    "    i=i+2\n",
    "print()\n"
   ]
  },
  {
   "cell_type": "code",
   "execution_count": 32,
   "metadata": {},
   "outputs": [
    {
     "name": "stdout",
     "output_type": "stream",
     "text": [
      "Enter Some String:venkateshyadav\n",
      "char at even positions are :  vnaehaa\n",
      "char at odd positions are :  ektsydv\n"
     ]
    }
   ],
   "source": [
    "s=input(\"Enter Some String:\")\n",
    "print(\"char at even positions are : \", s[0::2])\n",
    "print(\"char at odd positions are : \", s[1::2])"
   ]
  },
  {
   "cell_type": "code",
   "execution_count": 35,
   "metadata": {},
   "outputs": [
    {
     "name": "stdout",
     "output_type": "stream",
     "text": [
      "enter the value4\n",
      "1\n",
      "12\n",
      "123\n",
      "1234\n",
      "4321\n",
      "321\n",
      "21\n",
      "1\n"
     ]
    }
   ],
   "source": [
    "n=int(input(\"enter the value\"))\n",
    "for i in range(1,n+1):\n",
    "    for j in range(1,i+1):\n",
    "        print(j,end='')\n",
    "    print()\n",
    "for k in range(j,0,-1):\n",
    "    for s in range(k,0,-1):\n",
    "        print(s,end='')\n",
    "    print()\n",
    "    \n",
    "        "
   ]
  },
  {
   "cell_type": "code",
   "execution_count": 30,
   "metadata": {},
   "outputs": [
    {
     "name": "stdout",
     "output_type": "stream",
     "text": [
      "enter a value4\n",
      "1\n",
      "12\n",
      "123\n",
      "1234\n",
      "4321\n",
      "432\n",
      "43\n",
      "4\n"
     ]
    }
   ],
   "source": [
    "n=int(input(\"enter a value\"))\n",
    "for i in range(1,n+1):\n",
    "    for j in range(1,i+1):\n",
    "        print(j,end='')\n",
    "    print()\n",
    "for k in range(n,0,-1):\n",
    "    for s in range(0,k):\n",
    "        print(n-s,end='')\n",
    "    print()\n",
    "    \n",
    "        "
   ]
  },
  {
   "cell_type": "code",
   "execution_count": 23,
   "metadata": {},
   "outputs": [
    {
     "name": "stdout",
     "output_type": "stream",
     "text": [
      "enter the value4\n",
      "4 3 2 1 \n",
      "4 3 2 \n",
      "4 3 \n",
      "4 \n"
     ]
    }
   ],
   "source": [
    "n=int(input(\"enter the value\"))\n",
    "#for k in range(n,0,-1):\n",
    "#    for s in range(k,0,-1):\n",
    "#        print(s,end='')\n",
    "#    print()\n",
    "for i in range(n,0,-1): \n",
    "  for j in range(0,i): \n",
    "    print(n - j, end = \" \") \n",
    "  print() "
   ]
  },
  {
   "cell_type": "code",
   "execution_count": 28,
   "metadata": {},
   "outputs": [
    {
     "name": "stdout",
     "output_type": "stream",
     "text": [
      "enter the value4\n",
      "*\n",
      "**\n",
      "***\n",
      "****\n"
     ]
    }
   ],
   "source": [
    "n=int(input(\"enter the value\"))\n",
    "for i in range(1,n+1):\n",
    "    for j in range(1,i+1):\n",
    "        print('*',end='')\n",
    "    print()\n"
   ]
  },
  {
   "cell_type": "code",
   "execution_count": 31,
   "metadata": {},
   "outputs": [
    {
     "name": "stdout",
     "output_type": "stream",
     "text": [
      "enter a value4\n",
      "1\n",
      "12\n",
      "123\n",
      "1234\n",
      "4321\n",
      "321\n",
      "21\n",
      "1\n"
     ]
    }
   ],
   "source": [
    "n=int(input(\"enter a value\"))\n",
    "for i in range(1,n+1):\n",
    "    for j in range(1,i+1):\n",
    "        print(j,end='')\n",
    "    print()\n",
    "for k in range(n,0,-1):\n",
    "    for s in range(0,k):\n",
    "        print(k-s,end='')\n",
    "    print()\n",
    "    \n",
    "        "
   ]
  },
  {
   "cell_type": "code",
   "execution_count": 3,
   "metadata": {},
   "outputs": [
    {
     "name": "stdout",
     "output_type": "stream",
     "text": [
      "enter first string : venkat\n",
      "enter second string : anjii\n",
      "vaennjkiait\n"
     ]
    }
   ],
   "source": [
    "#wap  to merge char of 2 strings into one string by taking chars alternatively \n",
    "str1 = input(\"enter first string : \")\n",
    "str2 = input(\"enter second string : \")\n",
    "output=''\n",
    "i,j=0,0\n",
    "while i<len(str1) or j<len(str2):\n",
    "    if i<len(str1):\n",
    "        output=output+str1[i]\n",
    "        i+=1\n",
    "    if j<len(str2):\n",
    "        output=output+str2[j]\n",
    "        j+=1\n",
    "print(output)\n",
    "    "
   ]
  },
  {
   "cell_type": "code",
   "execution_count": 40,
   "metadata": {},
   "outputs": [
    {
     "name": "stdout",
     "output_type": "stream",
     "text": [
      "enter a stringg : B4A1D3\n",
      "ABD134\n"
     ]
    }
   ],
   "source": [
    "#input :B4A1D3\n",
    "#output: ABD134\n",
    "s=input(\"enter a stringg : \")\n",
    "s1=s2=output=''\n",
    "for x in s:\n",
    "    if x.isalpha():\n",
    "        s1=s1+x\n",
    "    else:\n",
    "        s2=s2+x\n",
    "for x in sorted(s1):\n",
    "    output=output+x\n",
    "for x in sorted(s2):\n",
    "    output=output+x\n",
    "    \n",
    "print(output)\n"
   ]
  },
  {
   "cell_type": "code",
   "execution_count": 18,
   "metadata": {},
   "outputs": [
    {
     "data": {
      "text/plain": [
       "['A', 'B', 'D']"
      ]
     },
     "execution_count": 18,
     "metadata": {},
     "output_type": "execute_result"
    }
   ],
   "source": [
    "x=sorted(\"BAD\")\n",
    "x"
   ]
  },
  {
   "cell_type": "code",
   "execution_count": 20,
   "metadata": {},
   "outputs": [
    {
     "name": "stdout",
     "output_type": "stream",
     "text": [
      "enter a string :a2s3d4\n",
      "aasssdddd\n"
     ]
    }
   ],
   "source": [
    "#input : a4b2c3\n",
    "#output : aaaabbccc\n",
    "s = input(\"enter a string :\")\n",
    "output=''\n",
    "for x in s:\n",
    "    if x.isalpha():\n",
    "    \n",
    "        output+=x\n",
    "        previous=x\n",
    "    else:\n",
    "        output=output+previous*(int(x)-1)\n",
    "print(output)\n",
    "        "
   ]
  },
  {
   "cell_type": "code",
   "execution_count": 26,
   "metadata": {},
   "outputs": [
    {
     "name": "stdout",
     "output_type": "stream",
     "text": [
      "enter a string  : AJKWAJUY8WA8ENZ\n",
      "AJKWUY8ENZ\n"
     ]
    }
   ],
   "source": [
    "#input : ABCDAABBCCCDDEEFFF\n",
    "# output :ABCDEF\n",
    "s = input(\"enter a string  : \")\n",
    "l =[]\n",
    "for x in s: \n",
    "    if x not in l:\n",
    "        l.append(x)\n",
    "output=''.join(l)\n",
    "print(output)"
   ]
  },
  {
   "cell_type": "code",
   "execution_count": 25,
   "metadata": {},
   "outputs": [
    {
     "name": "stdout",
     "output_type": "stream",
     "text": [
      "enter a string  : AJKWAJUY8WA8ENZ\n",
      "YZ8KNEWUJA\n"
     ]
    }
   ],
   "source": [
    "s = input(\"enter a string  : \")\n",
    "A=set(s)\n",
    "out= \"\".join(A)\n",
    "print(out)"
   ]
  },
  {
   "cell_type": "code",
   "execution_count": 46,
   "metadata": {},
   "outputs": [
    {
     "name": "stdout",
     "output_type": "stream",
     "text": [
      "enter aa stringg :ABCABCABBCDF\n",
      "A=3times\n",
      "B=4times\n",
      "C=3times\n",
      "D=1times\n",
      "F=1times\n"
     ]
    }
   ],
   "source": [
    "#input: ABCABCABBCDE\n",
    "#output : A-3,B-4,C-3,D-1,E-1\n",
    "s = input(\"enter aa stringg :\")\n",
    "d={}\n",
    "for x in s:\n",
    "    if x in d.keys():\n",
    "        d[x]+=1\n",
    "    else:\n",
    "        d[x]=1\n",
    "for k,v in d.items():\n",
    "    print(\"{}={}times\".format(k,v))"
   ]
  },
  {
   "cell_type": "code",
   "execution_count": 21,
   "metadata": {},
   "outputs": [
    {
     "name": "stdout",
     "output_type": "stream",
     "text": [
      "enter a string : kohli\n",
      "Wish you a Happy holi\n"
     ]
    }
   ],
   "source": [
    "s= input(\"enter a string : \")\n",
    "l =[]\n",
    "for x in s: \n",
    "    if x != \"k\":\n",
    "        l.append(x)\n",
    "l[0],l[1]=l[1],l[0]\n",
    "output=''.join(l)\n",
    "print(\"Wish you a Happy\" , output)\n"
   ]
  },
  {
   "cell_type": "code",
   "execution_count": 27,
   "metadata": {},
   "outputs": [
    {
     "name": "stdout",
     "output_type": "stream",
     "text": [
      "enter the stringg :varshaa\n",
      "v occured  1 times\n",
      "a occured  3 times\n",
      "r occured  1 times\n",
      "s occured  1 times\n",
      "h occured  1 times\n"
     ]
    }
   ],
   "source": [
    "# wap to find number of occurences of each letter present in \n",
    "#the given string \n",
    "word= input(\"enter the stringg :\")\n",
    "d={}\n",
    "for x in word:\n",
    "    d[x]=d.get(x,0)+1\n",
    "for k,v in d.items():\n",
    "    print(k, \"occured \", v ,\"times\")"
   ]
  },
  {
   "cell_type": "code",
   "execution_count": 34,
   "metadata": {},
   "outputs": [
    {
     "data": {
      "text/plain": [
       "dict_items([('a', 2), ('b', 3)])"
      ]
     },
     "execution_count": 34,
     "metadata": {},
     "output_type": "execute_result"
    }
   ],
   "source": [
    "d={\"a\":2,\"b\":3}\n",
    "d.get(\"c\",0)+1\n",
    "d.items()"
   ]
  },
  {
   "cell_type": "code",
   "execution_count": 2,
   "metadata": {},
   "outputs": [
    {
     "name": "stdout",
     "output_type": "stream",
     "text": [
      "enter a dictionary : {'a':100,'b':530,'f':600}\n",
      "sum  1230\n"
     ]
    }
   ],
   "source": [
    "#Write a program to take dictionary from the keyboard and print the sum\n",
    "#of values?\n",
    "d=eval(input(\"enter a dictionary : \"))\n",
    "s=sum(d.values())\n",
    "print(\"sum \" , s)"
   ]
  },
  {
   "cell_type": "code",
   "execution_count": 36,
   "metadata": {},
   "outputs": [
    {
     "name": "stdout",
     "output_type": "stream",
     "text": [
      "enter any string varshavenkatesh\n",
      "a occured 3 times\n",
      "e occured 2 times\n"
     ]
    }
   ],
   "source": [
    "#no of occurences of vowels in str\n",
    "word=input(\"enter any string \")\n",
    "vowels =['a','e','i','o','u']\n",
    "d={}\n",
    "for x in word:\n",
    "    if x in vowels:\n",
    "        d[x]=d.get(x,0)+1\n",
    "for k,v in d.items():\n",
    "    print(\"{} occured {} times\".format(k,v))"
   ]
  },
  {
   "cell_type": "code",
   "execution_count": 40,
   "metadata": {},
   "outputs": [
    {
     "name": "stdout",
     "output_type": "stream",
     "text": [
      "Enter the number of students: 10\n",
      "Enter Student Name: varshaa\n",
      "Enter Student Marks: 20\n",
      "Enter Student Name: soumya\n",
      "Enter Student Marks: 100\n",
      "Enter Student Name: venkatesh\n",
      "Enter Student Marks: 94\n",
      "Enter Student Name: venky\n",
      "Enter Student Marks: 96\n",
      "Enter Student Name: mudrakola\n",
      "Enter Student Marks: 76\n",
      "Enter Student Name: vaani\n",
      "Enter Student Marks: 98\n",
      "Enter Student Name: sampoorna\n",
      "Enter Student Marks: 88\n",
      "Enter Student Name: manasa\n",
      "Enter Student Marks: 84\n",
      "Enter Student Name: vaishnavi\n",
      "Enter Student Marks: 92\n",
      "Enter Student Name: supriya\n",
      "Enter Student Marks: 74\n",
      "Enter Student Name to get Marks: varshaa\n",
      "The Marks of varshaa are 20\n",
      "Do you want to find another student marks[Yes|No]\n",
      "Enter Student Name to get Marks: Yes\n",
      "Student Not Found\n",
      "Do you want to find another student marks[Yes|No]Yes\n",
      "Enter Student Name to get Marks: yamuna\n",
      "Student Not Found\n",
      "Do you want to find another student marks[Yes|No]Yes\n",
      "Enter Student Name to get Marks: priya\n",
      "Student Not Found\n",
      "Do you want to find another student marks[Yes|No]Yes\n",
      "Enter Student Name to get Marks: varsh\n",
      "Student Not Found\n",
      "Do you want to find another student marks[Yes|No]No\n",
      "Thanks for using our application\n"
     ]
    }
   ],
   "source": [
    "#Write a program to accept student name and marks from the keyboard\n",
    "#and creates a dictionary. Also display student marks by taking student name\n",
    "#as input?\n",
    "\n",
    "n=int(input(\"Enter the number of students: \"))\n",
    "d={}\n",
    "for i in range(n):\n",
    "    name=input(\"Enter Student Name: \")\n",
    "    marks=input(\"Enter Student Marks: \")\n",
    "    d[name]=marks\n",
    "while True:\n",
    "    name=input(\"Enter Student Name to get Marks: \")\n",
    "    marks=d.get(name,0)\n",
    "    if marks== 0:\n",
    "        print(\"Student Not Found\")\n",
    "    else:\n",
    "        print(\"The Marks of\",name,\"are\",marks)\n",
    "    option=input(\"Do you want to find another student marks[Yes|No]\")\n",
    "    if option==\"No\":\n",
    "        break\n",
    "print(\"Thanks for using our application\")"
   ]
  },
  {
   "cell_type": "code",
   "execution_count": 3,
   "metadata": {},
   "outputs": [
    {
     "name": "stdout",
     "output_type": "stream",
     "text": [
      "enter the stringg :my nme is python i like python\n",
      "{'my': 1, 'nme': 1, 'is': 1, 'python': 2, 'i': 1, 'like': 1}\n"
     ]
    }
   ],
   "source": [
    "# wap to find number of occurences of each word present in \n",
    "#the given string \n",
    "s= input(\"enter the stringg :\")\n",
    "d={}\n",
    "for x in s.split():\n",
    "    d[x]=d.get(x,0)+1\n",
    "#for k,v in d.items():\n",
    "#    print(k, \"occured \", v ,\"times\")\n",
    "print(d)"
   ]
  },
  {
   "cell_type": "code",
   "execution_count": 5,
   "metadata": {},
   "outputs": [
    {
     "name": "stdout",
     "output_type": "stream",
     "text": [
      "my name is lanji i like lanji\n",
      "{'my': 1, 'name': 1, 'is': 1, 'lanji': 2, 'i': 1, 'like': 1}\n"
     ]
    }
   ],
   "source": [
    "def count(str):\n",
    "  s = str.split()\n",
    "  d = {}\n",
    "  for i in s:\n",
    "    d[i] = s.count(i)\n",
    "  print(d)\n",
    "count(input())\n"
   ]
  },
  {
   "cell_type": "code",
   "execution_count": 16,
   "metadata": {},
   "outputs": [
    {
     "name": "stdout",
     "output_type": "stream",
     "text": [
      "enter the string : madam\n",
      "True\n"
     ]
    }
   ],
   "source": [
    "str = input(\"enter the string : \")\n",
    "# temp = ''\n",
    "# for i in range(len(str)-1,0,-1):\n",
    "# print(temp)\n",
    "if str == str[::-1]:\n",
    "    print('True')\n",
    "else:\n",
    "    print(\"False\")"
   ]
  },
  {
   "cell_type": "code",
   "execution_count": 8,
   "metadata": {},
   "outputs": [
    {
     "data": {
      "text/plain": [
       "True"
      ]
     },
     "execution_count": 8,
     "metadata": {},
     "output_type": "execute_result"
    }
   ],
   "source": [
    "\"W\".isupper()"
   ]
  },
  {
   "cell_type": "code",
   "execution_count": 7,
   "metadata": {},
   "outputs": [
    {
     "data": {
      "text/plain": [
       "False"
      ]
     },
     "execution_count": 7,
     "metadata": {},
     "output_type": "execute_result"
    }
   ],
   "source": [
    "\"venkT\".isupper()"
   ]
  },
  {
   "cell_type": "code",
   "execution_count": 9,
   "metadata": {},
   "outputs": [
    {
     "data": {
      "text/plain": [
       "'w'"
      ]
     },
     "execution_count": 9,
     "metadata": {},
     "output_type": "execute_result"
    }
   ],
   "source": [
    "\"W\".lower()"
   ]
  },
  {
   "cell_type": "code",
   "execution_count": null,
   "metadata": {},
   "outputs": [],
   "source": []
  }
 ],
 "metadata": {
  "kernelspec": {
   "display_name": "Python 3",
   "language": "python",
   "name": "python3"
  },
  "language_info": {
   "codemirror_mode": {
    "name": "ipython",
    "version": 3
   },
   "file_extension": ".py",
   "mimetype": "text/x-python",
   "name": "python",
   "nbconvert_exporter": "python",
   "pygments_lexer": "ipython3",
   "version": "3.8.3"
  }
 },
 "nbformat": 4,
 "nbformat_minor": 4
}
